{
 "cells": [
  {
   "cell_type": "code",
   "id": "initial_id",
   "metadata": {
    "collapsed": true,
    "ExecuteTime": {
     "end_time": "2025-08-19T19:27:48.881171Z",
     "start_time": "2025-08-19T19:27:48.865028Z"
    }
   },
   "source": [
    "import numpy as np\n",
    "import pandas as pd\n",
    "import matplotlib.pyplot as plt\n",
    "from sklearn.semi_supervised import LabelPropagation, LabelSpreading\n",
    "from sklearn.metrics import accuracy_score, f1_score, adjusted_rand_score, normalized_mutual_info_score, recall_score\n",
    "from scipy.stats import entropy\n",
    "from collections import defaultdict\n",
    "import warnings\n",
    "from sklearn.exceptions import ConvergenceWarning\n",
    "\n",
    "# Add this near the top of your script or notebook\n",
    "warnings.filterwarnings(\"ignore\", category=ConvergenceWarning)"
   ],
   "outputs": [],
   "execution_count": 6
  },
  {
   "metadata": {},
   "cell_type": "markdown",
   "source": "## Function",
   "id": "a33987a13c08ae40"
  },
  {
   "metadata": {
    "ExecuteTime": {
     "end_time": "2025-08-19T19:27:48.911607Z",
     "start_time": "2025-08-19T19:27:48.884426Z"
    }
   },
   "cell_type": "code",
   "source": [
    "total_labeled_targets=[50, 100, 250, 500]\n",
    "\n",
    "def label_propagation(X, y, strategy=\"uniform\", \n",
    "                             initial_labels_per_class=5, seed=42, repeats=5):\n",
    "    total_labeled_targets = [50, 100, 250, 500]\n",
    "    n_classes = len(np.unique(y))\n",
    "    total_samples = len(y)\n",
    "\n",
    "    all_runs_metrics = defaultdict(list)\n",
    "\n",
    "    for r in range(repeats):\n",
    "        rng = np.random.RandomState(seed + r)\n",
    "        labeled_mask = np.zeros(total_samples, dtype=bool)\n",
    "\n",
    "        for cls in range(n_classes):\n",
    "            cls_indices = np.where(y == cls)[0]\n",
    "            labeled_indices = rng.choice(cls_indices, initial_labels_per_class, replace=False)\n",
    "            labeled_mask[labeled_indices] = True\n",
    "\n",
    "        y_partial = -np.ones(total_samples)\n",
    "        y_partial[labeled_mask] = y[labeled_mask]\n",
    "        queried = labeled_mask.sum()\n",
    "        batch_sizes = [10, 30, 50]\n",
    "        batch_idx = 0\n",
    "        evaluated_targets = set()\n",
    "\n",
    "        while queried <= total_labeled_targets[-1]:\n",
    "            batch_size = batch_sizes[min(batch_idx, len(batch_sizes) - 1)]\n",
    "            model = LabelPropagation(kernel='rbf', gamma=20, max_iter=1000)\n",
    "            model.fit(X, y_partial)\n",
    "            probs = model.label_distributions_\n",
    "            score = entropy(probs.T)\n",
    "            unlabeled_indices = np.where(~labeled_mask)[0]\n",
    "\n",
    "            # === Evaluation ===\n",
    "            for target in total_labeled_targets:\n",
    "                if queried >= target and target not in evaluated_targets:\n",
    "                    pred = model.transduction_\n",
    "                    all_runs_metrics[target, \"Accuracy\"].append(accuracy_score(y, pred))\n",
    "                    all_runs_metrics[target, \"ARI\"].append(adjusted_rand_score(y, pred))\n",
    "                    all_runs_metrics[target, \"NMI\"].append(normalized_mutual_info_score(y, pred))\n",
    "                    all_runs_metrics[target, \"F1\"].append(f1_score(y, pred, average=\"macro\"))\n",
    "                    all_runs_metrics[target, \"Recall\"].append(recall_score(y, pred, average=\"macro\"))\n",
    "                    evaluated_targets.add(target)\n",
    "                    batch_idx += 1\n",
    "\n",
    "            if queried > total_labeled_targets[-1]:\n",
    "                break\n",
    "\n",
    "            # === Query selection ===\n",
    "            if strategy == \"entropy\":\n",
    "                query_indices = unlabeled_indices[np.argsort(score[unlabeled_indices])[-batch_size:]]\n",
    "\n",
    "            elif strategy == \"uniform\":\n",
    "                query_indices = []\n",
    "                per_class_quota = batch_size // n_classes\n",
    "                for cls in range(n_classes):\n",
    "                    cls_unlabeled = np.setdiff1d(np.where(y == cls)[0], np.where(labeled_mask)[0])\n",
    "                    if len(cls_unlabeled) == 0:\n",
    "                        continue\n",
    "                    cls_entropy_scores = score[cls_unlabeled]\n",
    "                    top_cls_indices = cls_unlabeled[np.argsort(cls_entropy_scores)[-min(per_class_quota, len(cls_unlabeled)):]]\n",
    "                    query_indices.extend(top_cls_indices)\n",
    "                remaining = batch_size - len(query_indices)\n",
    "                if remaining > 0:\n",
    "                    remaining_indices = np.setdiff1d(unlabeled_indices, query_indices)\n",
    "                    top_remaining = remaining_indices[np.argsort(score[remaining_indices])[-remaining:]]\n",
    "                    query_indices.extend(top_remaining)\n",
    "\n",
    "            elif strategy == \"random\":\n",
    "                query_indices = rng.choice(unlabeled_indices, batch_size, replace=False)\n",
    "            \n",
    "            elif strategy == \"random_then_entropy_1\":\n",
    "                if queried < 100:\n",
    "                    query_indices = rng.choice(unlabeled_indices, batch_size, replace=False)\n",
    "                else:\n",
    "                    query_indices = []\n",
    "                    per_class_quota = batch_size // n_classes\n",
    "                    for cls in range(n_classes):\n",
    "                        cls_unlabeled = np.setdiff1d(np.where(y == cls)[0], np.where(labeled_mask)[0])\n",
    "                        if len(cls_unlabeled) == 0:\n",
    "                            continue\n",
    "                        cls_entropy_scores = score[cls_unlabeled]\n",
    "                        top_cls_indices = cls_unlabeled[np.argsort(cls_entropy_scores)[-min(per_class_quota, len(cls_unlabeled)):]]\n",
    "                        query_indices.extend(top_cls_indices)\n",
    "                    remaining = batch_size - len(query_indices)\n",
    "                    if remaining > 0:\n",
    "                        remaining_indices = np.setdiff1d(unlabeled_indices, query_indices)\n",
    "                        top_remaining = remaining_indices[np.argsort(score[remaining_indices])[-remaining:]]\n",
    "                        query_indices.extend(top_remaining)\n",
    "                    \n",
    "            elif strategy == \"random_then_entropy_2\":\n",
    "                if queried < 250:\n",
    "                    query_indices = rng.choice(unlabeled_indices, batch_size, replace=False)\n",
    "                else:\n",
    "                    query_indices = []\n",
    "                    per_class_quota = batch_size // n_classes\n",
    "                    for cls in range(n_classes):\n",
    "                        cls_unlabeled = np.setdiff1d(np.where(y == cls)[0], np.where(labeled_mask)[0])\n",
    "                        if len(cls_unlabeled) == 0:\n",
    "                            continue\n",
    "                        cls_entropy_scores = score[cls_unlabeled]\n",
    "                        top_cls_indices = cls_unlabeled[np.argsort(cls_entropy_scores)[-min(per_class_quota, len(cls_unlabeled)):]]\n",
    "                        query_indices.extend(top_cls_indices)\n",
    "                    remaining = batch_size - len(query_indices)\n",
    "                    if remaining > 0:\n",
    "                        remaining_indices = np.setdiff1d(unlabeled_indices, query_indices)\n",
    "                        top_remaining = remaining_indices[np.argsort(score[remaining_indices])[-remaining:]]\n",
    "                        query_indices.extend(top_remaining)\n",
    "                \n",
    "            else:\n",
    "                print(strategy)\n",
    "                raise ValueError(\"Invalid strategy.\")\n",
    "\n",
    "            labeled_mask[query_indices] = True\n",
    "            y_partial[query_indices] = y[query_indices]\n",
    "            queried += len(query_indices)\n",
    "\n",
    "    final_results = []\n",
    "    for target in total_labeled_targets:\n",
    "        metrics = {\n",
    "            \"Labeled\": target,\n",
    "            \"Accuracy\": np.mean(all_runs_metrics[(target, \"Accuracy\")]),\n",
    "            \"ARI\": np.mean(all_runs_metrics[(target, \"ARI\")]),\n",
    "            \"NMI\": np.mean(all_runs_metrics[(target, \"NMI\")]),\n",
    "            \"F1\": np.mean(all_runs_metrics[(target, \"F1\")]),\n",
    "            \"Recall\": np.mean(all_runs_metrics[(target, \"Recall\")]),\n",
    "        }\n",
    "        final_results.append(metrics)\n",
    "\n",
    "    return final_results"
   ],
   "id": "445868807c017a1f",
   "outputs": [],
   "execution_count": 7
  },
  {
   "metadata": {
    "ExecuteTime": {
     "end_time": "2025-08-19T19:27:48.956643Z",
     "start_time": "2025-08-19T19:27:48.927398Z"
    }
   },
   "cell_type": "code",
   "source": [
    "def label_spreading(X, y, strategy=\"uniform\", \n",
    "                                             initial_labels_per_class=5, seed=42, repeats=5):\n",
    "    total_labeled_targets = [50, 100, 250, 500]\n",
    "    n_classes = len(np.unique(y))\n",
    "    total_samples = len(y)\n",
    "\n",
    "    all_runs_metrics = defaultdict(list)\n",
    "\n",
    "    for r in range(repeats):\n",
    "        rng = np.random.RandomState(seed + r)\n",
    "        labeled_mask = np.zeros(total_samples, dtype=bool)\n",
    "\n",
    "        for cls in range(n_classes):\n",
    "            cls_indices = np.where(y == cls)[0]\n",
    "            labeled_indices = rng.choice(cls_indices, initial_labels_per_class, replace=False)\n",
    "            labeled_mask[labeled_indices] = True\n",
    "\n",
    "        y_partial = -np.ones(total_samples)\n",
    "        y_partial[labeled_mask] = y[labeled_mask]\n",
    "        queried = labeled_mask.sum()\n",
    "        batch_sizes = [10, 30, 50]\n",
    "        batch_idx = 0\n",
    "        evaluated_targets = set()\n",
    "\n",
    "        while queried <= total_labeled_targets[-1]:\n",
    "            batch_size = batch_sizes[min(batch_idx, len(batch_sizes) - 1)]\n",
    "            model = LabelSpreading(kernel='rbf', gamma=20, max_iter=1000)\n",
    "            model.fit(X, y_partial)\n",
    "            probs = model.label_distributions_\n",
    "            score = entropy(probs.T)\n",
    "            unlabeled_indices = np.where(~labeled_mask)[0]\n",
    "\n",
    "            for target in total_labeled_targets:\n",
    "                if queried >= target and target not in evaluated_targets:\n",
    "                    pred = model.transduction_\n",
    "                    all_runs_metrics[target, \"Accuracy\"].append(accuracy_score(y, pred))\n",
    "                    all_runs_metrics[target, \"ARI\"].append(adjusted_rand_score(y, pred))\n",
    "                    all_runs_metrics[target, \"NMI\"].append(normalized_mutual_info_score(y, pred))\n",
    "                    all_runs_metrics[target, \"F1\"].append(f1_score(y, pred, average=\"macro\"))\n",
    "                    all_runs_metrics[target, \"Recall\"].append(recall_score(y, pred, average=\"macro\"))\n",
    "                    evaluated_targets.add(target)\n",
    "                    batch_idx += 1\n",
    "\n",
    "            if queried > total_labeled_targets[-1]:\n",
    "                break\n",
    "\n",
    "            if strategy == \"entropy\":\n",
    "                query_indices = unlabeled_indices[np.argsort(score[unlabeled_indices])[-batch_size:]]\n",
    "\n",
    "            elif strategy == \"uniform\":\n",
    "                query_indices = []\n",
    "                per_class_quota = batch_size // n_classes\n",
    "                for cls in range(n_classes):\n",
    "                    cls_unlabeled = np.setdiff1d(np.where(y == cls)[0], np.where(labeled_mask)[0])\n",
    "                    if len(cls_unlabeled) == 0:\n",
    "                        continue\n",
    "                    cls_entropy_scores = score[cls_unlabeled]\n",
    "                    top_cls_indices = cls_unlabeled[np.argsort(cls_entropy_scores)[-min(per_class_quota, len(cls_unlabeled)):]]\n",
    "                    query_indices.extend(top_cls_indices)\n",
    "                remaining = batch_size - len(query_indices)\n",
    "                if remaining > 0:\n",
    "                    remaining_indices = np.setdiff1d(unlabeled_indices, query_indices)\n",
    "                    top_remaining = remaining_indices[np.argsort(score[remaining_indices])[-remaining:]]\n",
    "                    query_indices.extend(top_remaining)\n",
    "\n",
    "            elif strategy == \"random\":\n",
    "                query_indices = rng.choice(unlabeled_indices, batch_size, replace=False)\n",
    "\n",
    "            elif strategy == \"random_then_entropy_1\":\n",
    "                if queried < 100:\n",
    "                    query_indices = rng.choice(unlabeled_indices, batch_size, replace=False)\n",
    "                else:\n",
    "                    query_indices = []\n",
    "                    per_class_quota = batch_size // n_classes\n",
    "                    for cls in range(n_classes):\n",
    "                        cls_unlabeled = np.setdiff1d(np.where(y == cls)[0], np.where(labeled_mask)[0])\n",
    "                        if len(cls_unlabeled) == 0:\n",
    "                            continue\n",
    "                        cls_entropy_scores = score[cls_unlabeled]\n",
    "                        top_cls_indices = cls_unlabeled[np.argsort(cls_entropy_scores)[-min(per_class_quota, len(cls_unlabeled)):]]\n",
    "                        query_indices.extend(top_cls_indices)\n",
    "                    remaining = batch_size - len(query_indices)\n",
    "                    if remaining > 0:\n",
    "                        remaining_indices = np.setdiff1d(unlabeled_indices, query_indices)\n",
    "                        top_remaining = remaining_indices[np.argsort(score[remaining_indices])[-remaining:]]\n",
    "                        query_indices.extend(top_remaining)\n",
    "\n",
    "            elif strategy == \"random_then_entropy_2\":\n",
    "                if queried < 250:\n",
    "                    query_indices = rng.choice(unlabeled_indices, batch_size, replace=False)\n",
    "                else:\n",
    "                    query_indices = []\n",
    "                    per_class_quota = batch_size // n_classes\n",
    "                    for cls in range(n_classes):\n",
    "                        cls_unlabeled = np.setdiff1d(np.where(y == cls)[0], np.where(labeled_mask)[0])\n",
    "                        if len(cls_unlabeled) == 0:\n",
    "                            continue\n",
    "                        cls_entropy_scores = score[cls_unlabeled]\n",
    "                        top_cls_indices = cls_unlabeled[np.argsort(cls_entropy_scores)[-min(per_class_quota, len(cls_unlabeled)):]]\n",
    "                        query_indices.extend(top_cls_indices)\n",
    "                    remaining = batch_size - len(query_indices)\n",
    "                    if remaining > 0:\n",
    "                        remaining_indices = np.setdiff1d(unlabeled_indices, query_indices)\n",
    "                        top_remaining = remaining_indices[np.argsort(score[remaining_indices])[-remaining:]]\n",
    "                        query_indices.extend(top_remaining)\n",
    "\n",
    "            else:\n",
    "                raise ValueError(f\"Invalid strategy: {strategy}\")\n",
    "\n",
    "            labeled_mask[query_indices] = True\n",
    "            y_partial[query_indices] = y[query_indices]\n",
    "            queried += len(query_indices)\n",
    "\n",
    "    final_results = []\n",
    "    for target in total_labeled_targets:\n",
    "        metrics = {\n",
    "            \"Labeled\": target,\n",
    "            \"Accuracy\": np.mean(all_runs_metrics[(target, \"Accuracy\")]),\n",
    "            \"ARI\": np.mean(all_runs_metrics[(target, \"ARI\")]),\n",
    "            \"NMI\": np.mean(all_runs_metrics[(target, \"NMI\")]),\n",
    "            \"F1\": np.mean(all_runs_metrics[(target, \"F1\")]),\n",
    "            \"Recall\": np.mean(all_runs_metrics[(target, \"Recall\")]),\n",
    "        }\n",
    "        final_results.append(metrics)\n",
    "\n",
    "    return final_results"
   ],
   "id": "a66578497c9c1de6",
   "outputs": [],
   "execution_count": 8
  },
  {
   "metadata": {},
   "cell_type": "code",
   "outputs": [],
   "execution_count": null,
   "source": [
    "def run_active_learning(file_path, repeats=5, func=\"label_propagation\"):\n",
    "    df = pd.read_pickle(file_path)\n",
    "    X = np.vstack(df[\"embedding\"].values)\n",
    "    y = pd.factorize(df[\"cluster\"])[0]\n",
    "\n",
    "    strategies = [\n",
    "        (\"random\", \"Random Sampling\"),\n",
    "        (\"entropy\", \"Entropy-based\"),\n",
    "        (\"uniform\", \"Class-balance Sampling\"),\n",
    "        (\"random_then_entropy_1\", \"Random → Entropy (start <100)\"),\n",
    "        (\"random_then_entropy_2\", \"Random → Entropy (start <250)\")\n",
    "    ]\n",
    "\n",
    "    # Select the active learning simulation function\n",
    "    if func == \"label_propagation\":\n",
    "        simulate = label_propagation\n",
    "    elif func == \"label_spreading\":\n",
    "        simulate = label_spreading\n",
    "    else:\n",
    "        raise ValueError(f\"Invalid func: {func}. Must be 'label_propagation' or 'label_spreading'.\")\n",
    "\n",
    "    results = {}\n",
    "    for strategy_key, _ in strategies:\n",
    "        results[strategy_key] = simulate(X, y, strategy=strategy_key, repeats=repeats)\n",
    "\n",
    "    return results\n",
    "\n",
    "\n",
    "\n",
    "def print_results(model_name, results_dict):\n",
    "    print(f\"=== {model_name} Accuracy Results ===\\n\")\n",
    "\n",
    "    strategy_names = {\n",
    "        \"random\": \"Random Sampling\",\n",
    "        \"entropy\": \"Entropy-based\",\n",
    "        \"uniform\": \"Class-balance Sampling\",\n",
    "        \"random_then_entropy_1\": \"Random → Entropy (start <100)\",\n",
    "        \"random_then_entropy_2\": \"Random → Entropy (start <250)\"\n",
    "    }\n",
    "\n",
    "    def print_al_metrics(name, metrics):\n",
    "        print(f\"\\nActive Learning ({name}):\")\n",
    "        for m in metrics:\n",
    "            print(f\"  {m['Labeled']} labels → Acc: {m['Accuracy']:.3f} | \"\n",
    "                  f\"ARI: {m['ARI']:.3f} | NMI: {m['NMI']:.3f} | \"\n",
    "                  f\"F1: {m['F1']:.3f} | Recall: {m['Recall']:.3f}\")\n",
    "\n",
    "    for key, name in strategy_names.items():\n",
    "        if key in results_dict:\n",
    "            print_al_metrics(name, results_dict[key])\n",
    "\n",
    "def save_results_to_csv(model_name, results_dict, func, programming_language=\"java\", out_file=\"results_java.csv\"):\n",
    "    \"\"\"\n",
    "    Save active learning results into a CSV file with a long-format structure.\n",
    "    \"\"\"\n",
    "    rows = []\n",
    "    for strategy, metrics in results_dict.items():\n",
    "        for m in metrics:\n",
    "            rows.append({\n",
    "                \"programming_language\": programming_language,\n",
    "                \"func\": func,   # label_propagation or label_spreading\n",
    "                \"embedding\": model_name,  # CodeBERT, GraphCodeBERT, etc.\n",
    "                \"strategy\": strategy,\n",
    "                \"labeled\": m[\"Labeled\"],\n",
    "                \"accuracy\": m[\"Accuracy\"],\n",
    "                \"ari\": m[\"ARI\"],\n",
    "                \"nmi\": m[\"NMI\"],\n",
    "                \"f1\": m[\"F1\"],\n",
    "                \"recall\": m[\"Recall\"]\n",
    "            })\n",
    "\n",
    "    df = pd.DataFrame(rows)\n",
    "\n",
    "    # Append if file exists, else create\n",
    "    try:\n",
    "        existing = pd.read_csv(out_file)\n",
    "        df = pd.concat([existing, df], ignore_index=True)\n",
    "    except FileNotFoundError:\n",
    "        pass\n",
    "\n",
    "    df.to_csv(out_file, index=False)\n",
    "    print(f\"Results saved to {out_file}\")\n",
    "\n",
    "\n",
    "def plot_accuracy(model_name, results_dict, func, programming_language=\"java\", save_csv=True):\n",
    "    plt.figure(figsize=(10, 6))\n",
    "\n",
    "    strategy_styles = {\n",
    "        \"random\": (\"Random\", \"o\", \"-.\"),\n",
    "        \"entropy\": (\"Entropy\", \"o\", \"--\"),\n",
    "        \"uniform\": (\"Uniform\", \"s\", \"--\"),\n",
    "        \"random_then_entropy_1\": (\"Random → Entropy (<100)\", \"D\", \"-\"),\n",
    "        \"random_then_entropy_2\": (\"Random → Entropy (<250)\", \"P\", \"-\")\n",
    "    }\n",
    "\n",
    "    for key, (label, marker, style) in strategy_styles.items():\n",
    "        if key in results_dict:\n",
    "            xs = [m[\"Labeled\"] for m in results_dict[key]]\n",
    "            ys = [m[\"Accuracy\"] for m in results_dict[key]]\n",
    "            plt.plot(xs, ys, label=label, marker=marker, linestyle=style)\n",
    "\n",
    "    plt.title(f\"{model_name} - Accuracy vs. Labeled Samples\")\n",
    "    plt.xlabel(\"# Labeled Samples\")\n",
    "    plt.ylabel(\"Accuracy\")\n",
    "    plt.ylim(0, 1.05)\n",
    "    plt.xticks([50, 100, 250, 500])\n",
    "    plt.legend()\n",
    "    plt.grid(True)\n",
    "    plt.tight_layout()\n",
    "    \n",
    "    save_path = f\"{model_name}_{func}_{programming_language}.png\"\n",
    "    plt.savefig(save_path, dpi=300, bbox_inches=\"tight\")\n",
    "    plt.close()\n",
    "    \n",
    "    if save_csv:\n",
    "        save_results_to_csv(model_name, results_dict, func, programming_language)"
   ],
   "id": "37e861596f9d6611"
  },
  {
   "metadata": {},
   "cell_type": "markdown",
   "source": "## CodeBERT",
   "id": "76a63073d2e49453"
  },
  {
   "metadata": {},
   "cell_type": "markdown",
   "source": "### Label Propagation",
   "id": "297436ca8c14f9b0"
  },
  {
   "metadata": {
    "ExecuteTime": {
     "end_time": "2025-08-19T20:00:43.708023Z",
     "start_time": "2025-08-19T19:27:49.002228Z"
    }
   },
   "cell_type": "code",
   "source": "codeBert_pp = run_active_learning(\"embeddings/java_CodeBERT_embeddings.pkl\", func=\"label_propagation\")",
   "id": "e5379e5330187db8",
   "outputs": [],
   "execution_count": 10
  },
  {
   "metadata": {
    "ExecuteTime": {
     "end_time": "2025-08-19T20:00:43.738099Z",
     "start_time": "2025-08-19T20:00:43.724415Z"
    }
   },
   "cell_type": "code",
   "source": "print_results(\"CodeBERT\", codeBert_pp)",
   "id": "41f123f6a703081a",
   "outputs": [
    {
     "name": "stdout",
     "output_type": "stream",
     "text": [
      "=== CodeBERT Accuracy Results ===\n",
      "\n",
      "\n",
      "Active Learning (Random Sampling):\n",
      "  50 labels → Acc: 0.499 | ARI: 0.258 | NMI: 0.386 | F1: 0.501 | Recall: 0.497\n",
      "  100 labels → Acc: 0.655 | ARI: 0.416 | NMI: 0.527 | F1: 0.656 | Recall: 0.659\n",
      "  250 labels → Acc: 0.795 | ARI: 0.614 | NMI: 0.679 | F1: 0.792 | Recall: 0.792\n",
      "  500 labels → Acc: 0.908 | ARI: 0.817 | NMI: 0.833 | F1: 0.901 | Recall: 0.902\n",
      "\n",
      "Active Learning (Entropy-based):\n",
      "  50 labels → Acc: 0.499 | ARI: 0.258 | NMI: 0.386 | F1: 0.501 | Recall: 0.497\n",
      "  100 labels → Acc: 0.556 | ARI: 0.312 | NMI: 0.437 | F1: 0.557 | Recall: 0.555\n",
      "  250 labels → Acc: 0.585 | ARI: 0.340 | NMI: 0.455 | F1: 0.579 | Recall: 0.582\n",
      "  500 labels → Acc: 0.627 | ARI: 0.387 | NMI: 0.498 | F1: 0.621 | Recall: 0.624\n",
      "\n",
      "Active Learning (Class-balance Sampling):\n",
      "  50 labels → Acc: 0.499 | ARI: 0.258 | NMI: 0.386 | F1: 0.501 | Recall: 0.497\n",
      "  100 labels → Acc: 0.600 | ARI: 0.350 | NMI: 0.466 | F1: 0.595 | Recall: 0.597\n",
      "  250 labels → Acc: 0.672 | ARI: 0.437 | NMI: 0.554 | F1: 0.668 | Recall: 0.671\n",
      "  500 labels → Acc: 0.768 | ARI: 0.577 | NMI: 0.673 | F1: 0.761 | Recall: 0.767\n",
      "\n",
      "Active Learning (Random → Entropy (start <100)):\n",
      "  50 labels → Acc: 0.499 | ARI: 0.258 | NMI: 0.386 | F1: 0.501 | Recall: 0.497\n",
      "  100 labels → Acc: 0.655 | ARI: 0.416 | NMI: 0.527 | F1: 0.656 | Recall: 0.659\n",
      "  250 labels → Acc: 0.724 | ARI: 0.508 | NMI: 0.600 | F1: 0.719 | Recall: 0.728\n",
      "  500 labels → Acc: 0.821 | ARI: 0.662 | NMI: 0.735 | F1: 0.817 | Recall: 0.824\n",
      "\n",
      "Active Learning (Random → Entropy (start <250)):\n",
      "  50 labels → Acc: 0.499 | ARI: 0.258 | NMI: 0.386 | F1: 0.501 | Recall: 0.497\n",
      "  100 labels → Acc: 0.655 | ARI: 0.416 | NMI: 0.527 | F1: 0.656 | Recall: 0.659\n",
      "  250 labels → Acc: 0.795 | ARI: 0.614 | NMI: 0.679 | F1: 0.792 | Recall: 0.792\n",
      "  500 labels → Acc: 0.892 | ARI: 0.793 | NMI: 0.823 | F1: 0.884 | Recall: 0.889\n"
     ]
    }
   ],
   "execution_count": 11
  },
  {
   "metadata": {
    "ExecuteTime": {
     "end_time": "2025-08-19T20:00:44.240326Z",
     "start_time": "2025-08-19T20:00:43.834972Z"
    }
   },
   "cell_type": "code",
   "source": "plot_accuracy(\"CodeBERT\", codeBert_pp, func=\"label_propagation\")",
   "id": "596676d581811737",
   "outputs": [
    {
     "name": "stdout",
     "output_type": "stream",
     "text": [
      "Results saved to results.csv\n"
     ]
    }
   ],
   "execution_count": 12
  },
  {
   "metadata": {},
   "cell_type": "markdown",
   "source": "### Label Spreading",
   "id": "7db3b210d4b1163a"
  },
  {
   "metadata": {
    "ExecuteTime": {
     "end_time": "2025-08-19T20:04:40.626641Z",
     "start_time": "2025-08-19T20:00:44.322124Z"
    }
   },
   "cell_type": "code",
   "source": [
    "codeBert_sp= run_active_learning(\"embeddings/java_CodeBERT_embeddings.pkl\", func=\"label_spreading\")\n",
    "print_results(\"CodeBERT\", codeBert_sp)"
   ],
   "id": "e60baa0a594570d8",
   "outputs": [
    {
     "name": "stdout",
     "output_type": "stream",
     "text": [
      "=== CodeBERT Accuracy Results ===\n",
      "\n",
      "\n",
      "Active Learning (Random Sampling):\n",
      "  50 labels → Acc: 0.472 | ARI: 0.235 | NMI: 0.373 | F1: 0.480 | Recall: 0.475\n",
      "  100 labels → Acc: 0.623 | ARI: 0.376 | NMI: 0.488 | F1: 0.621 | Recall: 0.630\n",
      "  250 labels → Acc: 0.779 | ARI: 0.590 | NMI: 0.655 | F1: 0.773 | Recall: 0.778\n",
      "  500 labels → Acc: 0.891 | ARI: 0.789 | NMI: 0.814 | F1: 0.884 | Recall: 0.886\n",
      "\n",
      "Active Learning (Entropy-based):\n",
      "  50 labels → Acc: 0.472 | ARI: 0.235 | NMI: 0.373 | F1: 0.480 | Recall: 0.475\n",
      "  100 labels → Acc: 0.514 | ARI: 0.252 | NMI: 0.409 | F1: 0.520 | Recall: 0.520\n",
      "  250 labels → Acc: 0.521 | ARI: 0.242 | NMI: 0.425 | F1: 0.529 | Recall: 0.529\n",
      "  500 labels → Acc: 0.548 | ARI: 0.266 | NMI: 0.442 | F1: 0.553 | Recall: 0.554\n",
      "\n",
      "Active Learning (Class-balance Sampling):\n",
      "  50 labels → Acc: 0.472 | ARI: 0.235 | NMI: 0.373 | F1: 0.480 | Recall: 0.475\n",
      "  100 labels → Acc: 0.509 | ARI: 0.213 | NMI: 0.402 | F1: 0.521 | Recall: 0.521\n",
      "  250 labels → Acc: 0.576 | ARI: 0.285 | NMI: 0.477 | F1: 0.589 | Recall: 0.583\n",
      "  500 labels → Acc: 0.704 | ARI: 0.448 | NMI: 0.614 | F1: 0.712 | Recall: 0.710\n",
      "\n",
      "Active Learning (Random → Entropy (start <100)):\n",
      "  50 labels → Acc: 0.472 | ARI: 0.235 | NMI: 0.373 | F1: 0.480 | Recall: 0.475\n",
      "  100 labels → Acc: 0.623 | ARI: 0.376 | NMI: 0.488 | F1: 0.621 | Recall: 0.630\n",
      "  250 labels → Acc: 0.675 | ARI: 0.420 | NMI: 0.562 | F1: 0.677 | Recall: 0.686\n",
      "  500 labels → Acc: 0.768 | ARI: 0.550 | NMI: 0.679 | F1: 0.769 | Recall: 0.776\n",
      "\n",
      "Active Learning (Random → Entropy (start <250)):\n",
      "  50 labels → Acc: 0.472 | ARI: 0.235 | NMI: 0.373 | F1: 0.480 | Recall: 0.475\n",
      "  100 labels → Acc: 0.623 | ARI: 0.376 | NMI: 0.488 | F1: 0.621 | Recall: 0.630\n",
      "  250 labels → Acc: 0.779 | ARI: 0.590 | NMI: 0.655 | F1: 0.773 | Recall: 0.778\n",
      "  500 labels → Acc: 0.861 | ARI: 0.736 | NMI: 0.791 | F1: 0.854 | Recall: 0.861\n"
     ]
    }
   ],
   "execution_count": 13
  },
  {
   "metadata": {
    "ExecuteTime": {
     "end_time": "2025-08-19T20:04:40.976366Z",
     "start_time": "2025-08-19T20:04:40.648805Z"
    }
   },
   "cell_type": "code",
   "source": "plot_accuracy(\"CodeBERT\", codeBert_sp, func=\"label_spreading\")",
   "id": "2ca230965dd02174",
   "outputs": [
    {
     "name": "stdout",
     "output_type": "stream",
     "text": [
      "Results saved to results.csv\n"
     ]
    }
   ],
   "execution_count": 14
  },
  {
   "metadata": {},
   "cell_type": "markdown",
   "source": "## GraphCodeBERT",
   "id": "85ef87c21148c912"
  },
  {
   "metadata": {},
   "cell_type": "markdown",
   "source": "### Label Propagation",
   "id": "afed6245ff0d1021"
  },
  {
   "metadata": {
    "ExecuteTime": {
     "end_time": "2025-08-19T20:07:23.099473Z",
     "start_time": "2025-08-19T20:04:40.992778Z"
    }
   },
   "cell_type": "code",
   "source": [
    "graphCodeBert_pp = run_active_learning(\"embeddings/java_GraphCodeBERT_embeddings.pkl\", func=\"label_propagation\")\n",
    "print_results(\"GraphCodeBERT\", graphCodeBert_pp)"
   ],
   "id": "5f03ce285b9a96c1",
   "outputs": [
    {
     "name": "stdout",
     "output_type": "stream",
     "text": [
      "=== GraphCodeBERT Accuracy Results ===\n",
      "\n",
      "\n",
      "Active Learning (Random Sampling):\n",
      "  50 labels → Acc: 0.373 | ARI: 0.064 | NMI: 0.382 | F1: 0.406 | Recall: 0.371\n",
      "  100 labels → Acc: 0.531 | ARI: 0.150 | NMI: 0.527 | F1: 0.591 | Recall: 0.539\n",
      "  250 labels → Acc: 0.704 | ARI: 0.347 | NMI: 0.669 | F1: 0.749 | Recall: 0.703\n",
      "  500 labels → Acc: 0.858 | ARI: 0.668 | NMI: 0.807 | F1: 0.870 | Recall: 0.851\n",
      "\n",
      "Active Learning (Entropy-based):\n",
      "  50 labels → Acc: 0.373 | ARI: 0.064 | NMI: 0.382 | F1: 0.406 | Recall: 0.371\n",
      "  100 labels → Acc: 0.574 | ARI: 0.255 | NMI: 0.613 | F1: 0.591 | Recall: 0.566\n",
      "  250 labels → Acc: 0.849 | ARI: 0.714 | NMI: 0.849 | F1: 0.842 | Recall: 0.834\n",
      "  500 labels → Acc: 0.984 | ARI: 0.971 | NMI: 0.976 | F1: 0.979 | Recall: 0.979\n",
      "\n",
      "Active Learning (Class-balance Sampling):\n",
      "  50 labels → Acc: 0.373 | ARI: 0.064 | NMI: 0.382 | F1: 0.406 | Recall: 0.371\n",
      "  100 labels → Acc: 0.591 | ARI: 0.207 | NMI: 0.583 | F1: 0.651 | Recall: 0.599\n",
      "  250 labels → Acc: 0.861 | ARI: 0.678 | NMI: 0.815 | F1: 0.874 | Recall: 0.860\n",
      "  500 labels → Acc: 0.975 | ARI: 0.953 | NMI: 0.962 | F1: 0.970 | Recall: 0.970\n",
      "\n",
      "Active Learning (Random → Entropy (start <100)):\n",
      "  50 labels → Acc: 0.373 | ARI: 0.064 | NMI: 0.382 | F1: 0.406 | Recall: 0.371\n",
      "  100 labels → Acc: 0.531 | ARI: 0.150 | NMI: 0.527 | F1: 0.591 | Recall: 0.539\n",
      "  250 labels → Acc: 0.834 | ARI: 0.613 | NMI: 0.788 | F1: 0.854 | Recall: 0.837\n",
      "  500 labels → Acc: 0.974 | ARI: 0.954 | NMI: 0.961 | F1: 0.969 | Recall: 0.972\n",
      "\n",
      "Active Learning (Random → Entropy (start <250)):\n",
      "  50 labels → Acc: 0.373 | ARI: 0.064 | NMI: 0.382 | F1: 0.406 | Recall: 0.371\n",
      "  100 labels → Acc: 0.531 | ARI: 0.150 | NMI: 0.527 | F1: 0.591 | Recall: 0.539\n",
      "  250 labels → Acc: 0.704 | ARI: 0.347 | NMI: 0.669 | F1: 0.749 | Recall: 0.703\n",
      "  500 labels → Acc: 0.970 | ARI: 0.945 | NMI: 0.952 | F1: 0.964 | Recall: 0.964\n"
     ]
    }
   ],
   "execution_count": 15
  },
  {
   "metadata": {
    "ExecuteTime": {
     "end_time": "2025-08-19T20:07:23.459674Z",
     "start_time": "2025-08-19T20:07:23.135558Z"
    }
   },
   "cell_type": "code",
   "source": "plot_accuracy(\"GraphCodeBERT\", graphCodeBert_pp, func=\"label_propagation\")",
   "id": "2f6349e1210422e4",
   "outputs": [
    {
     "name": "stdout",
     "output_type": "stream",
     "text": [
      "Results saved to results.csv\n"
     ]
    }
   ],
   "execution_count": 16
  },
  {
   "metadata": {},
   "cell_type": "markdown",
   "source": "### Label Spreading",
   "id": "e92a74b61b175390"
  },
  {
   "metadata": {
    "ExecuteTime": {
     "end_time": "2025-08-19T20:10:53.272321Z",
     "start_time": "2025-08-19T20:07:23.476147Z"
    }
   },
   "cell_type": "code",
   "source": [
    "graphCodeBert_sp = run_active_learning(\"embeddings/java_GraphCodeBERT_embeddings.pkl\", func=\"label_spreading\")\n",
    "print_results(\"GraphCodeBERT\", graphCodeBert_sp)"
   ],
   "id": "a46420eb9d0397a0",
   "outputs": [
    {
     "name": "stdout",
     "output_type": "stream",
     "text": [
      "=== GraphCodeBERT Accuracy Results ===\n",
      "\n",
      "\n",
      "Active Learning (Random Sampling):\n",
      "  50 labels → Acc: 0.373 | ARI: 0.064 | NMI: 0.382 | F1: 0.406 | Recall: 0.371\n",
      "  100 labels → Acc: 0.531 | ARI: 0.150 | NMI: 0.527 | F1: 0.591 | Recall: 0.539\n",
      "  250 labels → Acc: 0.704 | ARI: 0.347 | NMI: 0.669 | F1: 0.749 | Recall: 0.703\n",
      "  500 labels → Acc: 0.858 | ARI: 0.668 | NMI: 0.807 | F1: 0.870 | Recall: 0.851\n",
      "\n",
      "Active Learning (Entropy-based):\n",
      "  50 labels → Acc: 0.373 | ARI: 0.064 | NMI: 0.382 | F1: 0.406 | Recall: 0.371\n",
      "  100 labels → Acc: 0.574 | ARI: 0.255 | NMI: 0.613 | F1: 0.591 | Recall: 0.566\n",
      "  250 labels → Acc: 0.849 | ARI: 0.714 | NMI: 0.849 | F1: 0.842 | Recall: 0.834\n",
      "  500 labels → Acc: 0.984 | ARI: 0.971 | NMI: 0.976 | F1: 0.979 | Recall: 0.979\n",
      "\n",
      "Active Learning (Class-balance Sampling):\n",
      "  50 labels → Acc: 0.373 | ARI: 0.064 | NMI: 0.382 | F1: 0.406 | Recall: 0.371\n",
      "  100 labels → Acc: 0.591 | ARI: 0.207 | NMI: 0.583 | F1: 0.651 | Recall: 0.599\n",
      "  250 labels → Acc: 0.861 | ARI: 0.678 | NMI: 0.815 | F1: 0.874 | Recall: 0.860\n",
      "  500 labels → Acc: 0.975 | ARI: 0.953 | NMI: 0.962 | F1: 0.970 | Recall: 0.970\n",
      "\n",
      "Active Learning (Random → Entropy (start <100)):\n",
      "  50 labels → Acc: 0.373 | ARI: 0.064 | NMI: 0.382 | F1: 0.406 | Recall: 0.371\n",
      "  100 labels → Acc: 0.531 | ARI: 0.150 | NMI: 0.527 | F1: 0.591 | Recall: 0.539\n",
      "  250 labels → Acc: 0.834 | ARI: 0.613 | NMI: 0.788 | F1: 0.854 | Recall: 0.837\n",
      "  500 labels → Acc: 0.974 | ARI: 0.954 | NMI: 0.961 | F1: 0.969 | Recall: 0.972\n",
      "\n",
      "Active Learning (Random → Entropy (start <250)):\n",
      "  50 labels → Acc: 0.373 | ARI: 0.064 | NMI: 0.382 | F1: 0.406 | Recall: 0.371\n",
      "  100 labels → Acc: 0.531 | ARI: 0.150 | NMI: 0.527 | F1: 0.591 | Recall: 0.539\n",
      "  250 labels → Acc: 0.704 | ARI: 0.347 | NMI: 0.669 | F1: 0.749 | Recall: 0.703\n",
      "  500 labels → Acc: 0.970 | ARI: 0.945 | NMI: 0.952 | F1: 0.964 | Recall: 0.964\n"
     ]
    }
   ],
   "execution_count": 17
  },
  {
   "metadata": {
    "ExecuteTime": {
     "end_time": "2025-08-19T20:10:53.620972Z",
     "start_time": "2025-08-19T20:10:53.310412Z"
    }
   },
   "cell_type": "code",
   "source": "plot_accuracy(\"GraphCodeBERT\", graphCodeBert_sp, func=\"label_spreading\")",
   "id": "24e74dfbf0f4f80d",
   "outputs": [
    {
     "name": "stdout",
     "output_type": "stream",
     "text": [
      "Results saved to results.csv\n"
     ]
    }
   ],
   "execution_count": 18
  },
  {
   "metadata": {},
   "cell_type": "markdown",
   "source": "## UniXcoder",
   "id": "7c9d6bddaf23ee26"
  },
  {
   "metadata": {},
   "cell_type": "markdown",
   "source": "### Label Propogation",
   "id": "f281606d9263ef00"
  },
  {
   "metadata": {
    "ExecuteTime": {
     "end_time": "2025-08-19T20:13:23.670764Z",
     "start_time": "2025-08-19T20:10:53.636956Z"
    }
   },
   "cell_type": "code",
   "source": [
    "uniXcoder_pp = run_active_learning(\"embeddings/java_UniXcoder_embeddings.pkl\", func=\"label_propagation\")\n",
    "print_results(\"UniXcoder\", uniXcoder_pp)"
   ],
   "id": "99c9479cd6557142",
   "outputs": [
    {
     "name": "stdout",
     "output_type": "stream",
     "text": [
      "=== UniXcoder Accuracy Results ===\n",
      "\n",
      "\n",
      "Active Learning (Random Sampling):\n",
      "  50 labels → Acc: 0.341 | ARI: 0.045 | NMI: 0.339 | F1: 0.375 | Recall: 0.340\n",
      "  100 labels → Acc: 0.506 | ARI: 0.122 | NMI: 0.497 | F1: 0.569 | Recall: 0.513\n",
      "  250 labels → Acc: 0.688 | ARI: 0.315 | NMI: 0.650 | F1: 0.736 | Recall: 0.685\n",
      "  500 labels → Acc: 0.851 | ARI: 0.650 | NMI: 0.799 | F1: 0.865 | Recall: 0.845\n",
      "\n",
      "Active Learning (Entropy-based):\n",
      "  50 labels → Acc: 0.341 | ARI: 0.045 | NMI: 0.339 | F1: 0.375 | Recall: 0.340\n",
      "  100 labels → Acc: 0.500 | ARI: 0.170 | NMI: 0.536 | F1: 0.525 | Recall: 0.499\n",
      "  250 labels → Acc: 0.760 | ARI: 0.526 | NMI: 0.772 | F1: 0.773 | Recall: 0.759\n",
      "  500 labels → Acc: 0.970 | ARI: 0.947 | NMI: 0.964 | F1: 0.965 | Recall: 0.968\n",
      "\n",
      "Active Learning (Class-balance Sampling):\n",
      "  50 labels → Acc: 0.341 | ARI: 0.045 | NMI: 0.339 | F1: 0.375 | Recall: 0.340\n",
      "  100 labels → Acc: 0.570 | ARI: 0.181 | NMI: 0.561 | F1: 0.633 | Recall: 0.578\n",
      "  250 labels → Acc: 0.851 | ARI: 0.651 | NMI: 0.803 | F1: 0.868 | Recall: 0.851\n",
      "  500 labels → Acc: 0.976 | ARI: 0.956 | NMI: 0.963 | F1: 0.971 | Recall: 0.972\n",
      "\n",
      "Active Learning (Random → Entropy (start <100)):\n",
      "  50 labels → Acc: 0.341 | ARI: 0.045 | NMI: 0.339 | F1: 0.375 | Recall: 0.340\n",
      "  100 labels → Acc: 0.506 | ARI: 0.122 | NMI: 0.497 | F1: 0.569 | Recall: 0.513\n",
      "  250 labels → Acc: 0.824 | ARI: 0.587 | NMI: 0.777 | F1: 0.846 | Recall: 0.826\n",
      "  500 labels → Acc: 0.973 | ARI: 0.951 | NMI: 0.959 | F1: 0.968 | Recall: 0.971\n",
      "\n",
      "Active Learning (Random → Entropy (start <250)):\n",
      "  50 labels → Acc: 0.341 | ARI: 0.045 | NMI: 0.339 | F1: 0.375 | Recall: 0.340\n",
      "  100 labels → Acc: 0.506 | ARI: 0.122 | NMI: 0.497 | F1: 0.569 | Recall: 0.513\n",
      "  250 labels → Acc: 0.688 | ARI: 0.315 | NMI: 0.650 | F1: 0.736 | Recall: 0.685\n",
      "  500 labels → Acc: 0.969 | ARI: 0.943 | NMI: 0.951 | F1: 0.963 | Recall: 0.963\n"
     ]
    }
   ],
   "execution_count": 19
  },
  {
   "metadata": {
    "ExecuteTime": {
     "end_time": "2025-08-19T20:13:24.032856Z",
     "start_time": "2025-08-19T20:13:23.705453Z"
    }
   },
   "cell_type": "code",
   "source": "plot_accuracy(\"UniXcoder\", uniXcoder_pp, func=\"label_propagation\")",
   "id": "2309388dbf804f72",
   "outputs": [
    {
     "name": "stdout",
     "output_type": "stream",
     "text": [
      "Results saved to results.csv\n"
     ]
    }
   ],
   "execution_count": 20
  },
  {
   "metadata": {},
   "cell_type": "markdown",
   "source": "### Label Spreading",
   "id": "db1656074abb35a6"
  },
  {
   "metadata": {
    "ExecuteTime": {
     "end_time": "2025-08-19T20:16:44.644825Z",
     "start_time": "2025-08-19T20:13:24.048729Z"
    }
   },
   "cell_type": "code",
   "source": [
    "uniXcoder_sp = run_active_learning(\"embeddings/java_UniXcoder_embeddings.pkl\", func=\"label_spreading\")\n",
    "print_results(\"UniXcoder\", uniXcoder_sp)"
   ],
   "id": "ac645d34898d2c19",
   "outputs": [
    {
     "name": "stdout",
     "output_type": "stream",
     "text": [
      "=== UniXcoder Accuracy Results ===\n",
      "\n",
      "\n",
      "Active Learning (Random Sampling):\n",
      "  50 labels → Acc: 0.341 | ARI: 0.045 | NMI: 0.339 | F1: 0.375 | Recall: 0.340\n",
      "  100 labels → Acc: 0.508 | ARI: 0.123 | NMI: 0.501 | F1: 0.573 | Recall: 0.515\n",
      "  250 labels → Acc: 0.688 | ARI: 0.315 | NMI: 0.650 | F1: 0.736 | Recall: 0.685\n",
      "  500 labels → Acc: 0.851 | ARI: 0.650 | NMI: 0.799 | F1: 0.865 | Recall: 0.845\n",
      "\n",
      "Active Learning (Entropy-based):\n",
      "  50 labels → Acc: 0.341 | ARI: 0.045 | NMI: 0.339 | F1: 0.375 | Recall: 0.340\n",
      "  100 labels → Acc: 0.500 | ARI: 0.170 | NMI: 0.536 | F1: 0.525 | Recall: 0.499\n",
      "  250 labels → Acc: 0.760 | ARI: 0.526 | NMI: 0.772 | F1: 0.773 | Recall: 0.759\n",
      "  500 labels → Acc: 0.970 | ARI: 0.947 | NMI: 0.964 | F1: 0.965 | Recall: 0.968\n",
      "\n",
      "Active Learning (Class-balance Sampling):\n",
      "  50 labels → Acc: 0.341 | ARI: 0.045 | NMI: 0.339 | F1: 0.375 | Recall: 0.340\n",
      "  100 labels → Acc: 0.570 | ARI: 0.181 | NMI: 0.561 | F1: 0.633 | Recall: 0.578\n",
      "  250 labels → Acc: 0.851 | ARI: 0.651 | NMI: 0.803 | F1: 0.868 | Recall: 0.851\n",
      "  500 labels → Acc: 0.976 | ARI: 0.956 | NMI: 0.963 | F1: 0.971 | Recall: 0.972\n",
      "\n",
      "Active Learning (Random → Entropy (start <100)):\n",
      "  50 labels → Acc: 0.341 | ARI: 0.045 | NMI: 0.339 | F1: 0.375 | Recall: 0.340\n",
      "  100 labels → Acc: 0.508 | ARI: 0.123 | NMI: 0.501 | F1: 0.573 | Recall: 0.515\n",
      "  250 labels → Acc: 0.826 | ARI: 0.591 | NMI: 0.780 | F1: 0.849 | Recall: 0.829\n",
      "  500 labels → Acc: 0.976 | ARI: 0.956 | NMI: 0.962 | F1: 0.970 | Recall: 0.973\n",
      "\n",
      "Active Learning (Random → Entropy (start <250)):\n",
      "  50 labels → Acc: 0.341 | ARI: 0.045 | NMI: 0.339 | F1: 0.375 | Recall: 0.340\n",
      "  100 labels → Acc: 0.508 | ARI: 0.123 | NMI: 0.501 | F1: 0.573 | Recall: 0.515\n",
      "  250 labels → Acc: 0.688 | ARI: 0.315 | NMI: 0.650 | F1: 0.736 | Recall: 0.685\n",
      "  500 labels → Acc: 0.969 | ARI: 0.943 | NMI: 0.951 | F1: 0.963 | Recall: 0.963\n"
     ]
    }
   ],
   "execution_count": 21
  },
  {
   "metadata": {
    "ExecuteTime": {
     "end_time": "2025-08-19T20:16:44.993772Z",
     "start_time": "2025-08-19T20:16:44.663822Z"
    }
   },
   "cell_type": "code",
   "source": "plot_accuracy(\"UniXcoder\", uniXcoder_sp, func=\"label_spreading\")",
   "id": "8dfe3d4260f7c545",
   "outputs": [
    {
     "name": "stdout",
     "output_type": "stream",
     "text": [
      "Results saved to results.csv\n"
     ]
    }
   ],
   "execution_count": 22
  },
  {
   "metadata": {},
   "cell_type": "markdown",
   "source": "## CodeT5",
   "id": "10d73e4af8357d89"
  },
  {
   "metadata": {},
   "cell_type": "markdown",
   "source": "### Label Propagation",
   "id": "aff40dae29793ccb"
  },
  {
   "metadata": {
    "ExecuteTime": {
     "end_time": "2025-08-19T22:15:41.179887Z",
     "start_time": "2025-08-19T20:16:45.013337Z"
    }
   },
   "cell_type": "code",
   "source": [
    "codeT5_pp = run_active_learning(\"embeddings/java_CodeT5_embeddings.pkl\", func=\"label_propagation\")\n",
    "print_results(\"CodeT5\", codeT5_pp)"
   ],
   "id": "4f10c0be77e2c9e2",
   "outputs": [
    {
     "name": "stdout",
     "output_type": "stream",
     "text": [
      "=== CodeT5 Accuracy Results ===\n",
      "\n",
      "\n",
      "Active Learning (Random Sampling):\n",
      "  50 labels → Acc: 0.539 | ARI: 0.297 | NMI: 0.418 | F1: 0.535 | Recall: 0.538\n",
      "  100 labels → Acc: 0.708 | ARI: 0.495 | NMI: 0.584 | F1: 0.700 | Recall: 0.710\n",
      "  250 labels → Acc: 0.827 | ARI: 0.675 | NMI: 0.724 | F1: 0.818 | Recall: 0.821\n",
      "  500 labels → Acc: 0.925 | ARI: 0.853 | NMI: 0.864 | F1: 0.917 | Recall: 0.918\n",
      "\n",
      "Active Learning (Entropy-based):\n",
      "  50 labels → Acc: 0.539 | ARI: 0.297 | NMI: 0.418 | F1: 0.535 | Recall: 0.538\n",
      "  100 labels → Acc: 0.568 | ARI: 0.333 | NMI: 0.461 | F1: 0.562 | Recall: 0.569\n",
      "  250 labels → Acc: 0.593 | ARI: 0.362 | NMI: 0.493 | F1: 0.582 | Recall: 0.593\n",
      "  500 labels → Acc: 0.656 | ARI: 0.438 | NMI: 0.552 | F1: 0.646 | Recall: 0.654\n",
      "\n",
      "Active Learning (Class-balance Sampling):\n",
      "  50 labels → Acc: 0.539 | ARI: 0.297 | NMI: 0.418 | F1: 0.535 | Recall: 0.538\n",
      "  100 labels → Acc: 0.624 | ARI: 0.396 | NMI: 0.513 | F1: 0.614 | Recall: 0.623\n",
      "  250 labels → Acc: 0.696 | ARI: 0.485 | NMI: 0.601 | F1: 0.688 | Recall: 0.695\n",
      "  500 labels → Acc: 0.804 | ARI: 0.643 | NMI: 0.734 | F1: 0.796 | Recall: 0.803\n",
      "\n",
      "Active Learning (Random → Entropy (start <100)):\n",
      "  50 labels → Acc: 0.539 | ARI: 0.297 | NMI: 0.418 | F1: 0.535 | Recall: 0.538\n",
      "  100 labels → Acc: 0.708 | ARI: 0.495 | NMI: 0.584 | F1: 0.700 | Recall: 0.710\n",
      "  250 labels → Acc: 0.773 | ARI: 0.589 | NMI: 0.668 | F1: 0.764 | Recall: 0.772\n",
      "  500 labels → Acc: 0.868 | ARI: 0.749 | NMI: 0.797 | F1: 0.861 | Recall: 0.868\n",
      "\n",
      "Active Learning (Random → Entropy (start <250)):\n",
      "  50 labels → Acc: 0.539 | ARI: 0.297 | NMI: 0.418 | F1: 0.535 | Recall: 0.538\n",
      "  100 labels → Acc: 0.708 | ARI: 0.495 | NMI: 0.584 | F1: 0.700 | Recall: 0.710\n",
      "  250 labels → Acc: 0.827 | ARI: 0.675 | NMI: 0.724 | F1: 0.818 | Recall: 0.821\n",
      "  500 labels → Acc: 0.913 | ARI: 0.838 | NMI: 0.859 | F1: 0.903 | Recall: 0.905\n"
     ]
    }
   ],
   "execution_count": 23
  },
  {
   "metadata": {
    "ExecuteTime": {
     "end_time": "2025-08-19T22:15:41.466948Z",
     "start_time": "2025-08-19T22:15:41.200083Z"
    }
   },
   "cell_type": "code",
   "source": "plot_accuracy(\"CodeT5\", codeT5_pp, func=\"label_propagation\")",
   "id": "282a848311856b2b",
   "outputs": [
    {
     "name": "stdout",
     "output_type": "stream",
     "text": [
      "Results saved to results.csv\n"
     ]
    }
   ],
   "execution_count": 24
  },
  {
   "metadata": {},
   "cell_type": "markdown",
   "source": "### Label Spreading",
   "id": "6484b502282f50e0"
  },
  {
   "metadata": {
    "ExecuteTime": {
     "end_time": "2025-08-19T22:19:22.287792Z",
     "start_time": "2025-08-19T22:15:41.485981Z"
    }
   },
   "cell_type": "code",
   "source": [
    "codeT5_sp = run_active_learning(\"embeddings/java_CodeT5_embeddings.pkl\", func=\"label_spreading\")\n",
    "print_results(\"CodeT5\", codeT5_sp)"
   ],
   "id": "c410c66770744d9",
   "outputs": [
    {
     "name": "stdout",
     "output_type": "stream",
     "text": [
      "=== CodeT5 Accuracy Results ===\n",
      "\n",
      "\n",
      "Active Learning (Random Sampling):\n",
      "  50 labels → Acc: 0.530 | ARI: 0.287 | NMI: 0.423 | F1: 0.529 | Recall: 0.532\n",
      "  100 labels → Acc: 0.677 | ARI: 0.440 | NMI: 0.556 | F1: 0.673 | Recall: 0.681\n",
      "  250 labels → Acc: 0.809 | ARI: 0.641 | NMI: 0.704 | F1: 0.803 | Recall: 0.806\n",
      "  500 labels → Acc: 0.914 | ARI: 0.834 | NMI: 0.852 | F1: 0.905 | Recall: 0.907\n",
      "\n",
      "Active Learning (Entropy-based):\n",
      "  50 labels → Acc: 0.530 | ARI: 0.287 | NMI: 0.423 | F1: 0.529 | Recall: 0.532\n",
      "  100 labels → Acc: 0.517 | ARI: 0.246 | NMI: 0.418 | F1: 0.518 | Recall: 0.522\n",
      "  250 labels → Acc: 0.524 | ARI: 0.237 | NMI: 0.416 | F1: 0.523 | Recall: 0.529\n",
      "  500 labels → Acc: 0.567 | ARI: 0.286 | NMI: 0.462 | F1: 0.566 | Recall: 0.570\n",
      "\n",
      "Active Learning (Class-balance Sampling):\n",
      "  50 labels → Acc: 0.530 | ARI: 0.287 | NMI: 0.423 | F1: 0.529 | Recall: 0.532\n",
      "  100 labels → Acc: 0.525 | ARI: 0.243 | NMI: 0.434 | F1: 0.531 | Recall: 0.532\n",
      "  250 labels → Acc: 0.605 | ARI: 0.318 | NMI: 0.522 | F1: 0.615 | Recall: 0.609\n",
      "  500 labels → Acc: 0.736 | ARI: 0.496 | NMI: 0.658 | F1: 0.741 | Recall: 0.740\n",
      "\n",
      "Active Learning (Random → Entropy (start <100)):\n",
      "  50 labels → Acc: 0.530 | ARI: 0.287 | NMI: 0.423 | F1: 0.529 | Recall: 0.532\n",
      "  100 labels → Acc: 0.677 | ARI: 0.440 | NMI: 0.556 | F1: 0.673 | Recall: 0.681\n",
      "  250 labels → Acc: 0.684 | ARI: 0.415 | NMI: 0.580 | F1: 0.691 | Recall: 0.692\n",
      "  500 labels → Acc: 0.793 | ARI: 0.591 | NMI: 0.715 | F1: 0.795 | Recall: 0.801\n",
      "\n",
      "Active Learning (Random → Entropy (start <250)):\n",
      "  50 labels → Acc: 0.530 | ARI: 0.287 | NMI: 0.423 | F1: 0.529 | Recall: 0.532\n",
      "  100 labels → Acc: 0.677 | ARI: 0.440 | NMI: 0.556 | F1: 0.673 | Recall: 0.681\n",
      "  250 labels → Acc: 0.809 | ARI: 0.641 | NMI: 0.704 | F1: 0.803 | Recall: 0.806\n",
      "  500 labels → Acc: 0.874 | ARI: 0.758 | NMI: 0.812 | F1: 0.867 | Recall: 0.872\n"
     ]
    }
   ],
   "execution_count": 25
  },
  {
   "metadata": {
    "ExecuteTime": {
     "end_time": "2025-08-19T22:19:22.609452Z",
     "start_time": "2025-08-19T22:19:22.352458Z"
    }
   },
   "cell_type": "code",
   "source": "plot_accuracy(\"CodeT5\", codeT5_sp, func=\"label_spreading\")",
   "id": "d1bfccc1cee6d29a",
   "outputs": [
    {
     "name": "stdout",
     "output_type": "stream",
     "text": [
      "Results saved to results.csv\n"
     ]
    }
   ],
   "execution_count": 26
  },
  {
   "metadata": {},
   "cell_type": "markdown",
   "source": "## InCoder",
   "id": "916db3f9a28c3b7"
  },
  {
   "metadata": {},
   "cell_type": "markdown",
   "source": "### Label Propagation",
   "id": "2af9a5b48b1b9a49"
  },
  {
   "metadata": {
    "ExecuteTime": {
     "end_time": "2025-08-19T22:36:45.211252Z",
     "start_time": "2025-08-19T22:19:22.625766Z"
    }
   },
   "cell_type": "code",
   "source": [
    "InCoder_pp = run_active_learning(\"embeddings/java_InCoder_embeddings.pkl\", func=\"label_propagation\")\n",
    "print_results(\"InCoder\", InCoder_pp)"
   ],
   "id": "1dca9c0e1dbf8e92",
   "outputs": [
    {
     "name": "stdout",
     "output_type": "stream",
     "text": [
      "=== InCoder Accuracy Results ===\n",
      "\n",
      "\n",
      "Active Learning (Random Sampling):\n",
      "  50 labels → Acc: 0.700 | ARI: 0.521 | NMI: 0.630 | F1: 0.687 | Recall: 0.692\n",
      "  100 labels → Acc: 0.816 | ARI: 0.671 | NMI: 0.741 | F1: 0.806 | Recall: 0.815\n",
      "  250 labels → Acc: 0.899 | ARI: 0.808 | NMI: 0.837 | F1: 0.891 | Recall: 0.894\n",
      "  500 labels → Acc: 0.958 | ARI: 0.917 | NMI: 0.919 | F1: 0.953 | Recall: 0.955\n",
      "\n",
      "Active Learning (Entropy-based):\n",
      "  50 labels → Acc: 0.700 | ARI: 0.521 | NMI: 0.630 | F1: 0.687 | Recall: 0.692\n",
      "  100 labels → Acc: 0.740 | ARI: 0.560 | NMI: 0.664 | F1: 0.729 | Recall: 0.734\n",
      "  250 labels → Acc: 0.770 | ARI: 0.602 | NMI: 0.698 | F1: 0.761 | Recall: 0.767\n",
      "  500 labels → Acc: 0.814 | ARI: 0.666 | NMI: 0.745 | F1: 0.805 | Recall: 0.814\n",
      "\n",
      "Active Learning (Class-balance Sampling):\n",
      "  50 labels → Acc: 0.700 | ARI: 0.521 | NMI: 0.630 | F1: 0.687 | Recall: 0.692\n",
      "  100 labels → Acc: 0.814 | ARI: 0.669 | NMI: 0.740 | F1: 0.803 | Recall: 0.810\n",
      "  250 labels → Acc: 0.848 | ARI: 0.720 | NMI: 0.794 | F1: 0.840 | Recall: 0.846\n",
      "  500 labels → Acc: 0.924 | ARI: 0.854 | NMI: 0.887 | F1: 0.918 | Recall: 0.923\n",
      "\n",
      "Active Learning (Random → Entropy (start <100)):\n",
      "  50 labels → Acc: 0.700 | ARI: 0.521 | NMI: 0.630 | F1: 0.687 | Recall: 0.692\n",
      "  100 labels → Acc: 0.816 | ARI: 0.671 | NMI: 0.741 | F1: 0.806 | Recall: 0.815\n",
      "  250 labels → Acc: 0.890 | ARI: 0.790 | NMI: 0.835 | F1: 0.885 | Recall: 0.892\n",
      "  500 labels → Acc: 0.949 | ARI: 0.900 | NMI: 0.921 | F1: 0.944 | Recall: 0.951\n",
      "\n",
      "Active Learning (Random → Entropy (start <250)):\n",
      "  50 labels → Acc: 0.700 | ARI: 0.521 | NMI: 0.630 | F1: 0.687 | Recall: 0.692\n",
      "  100 labels → Acc: 0.816 | ARI: 0.671 | NMI: 0.741 | F1: 0.806 | Recall: 0.815\n",
      "  250 labels → Acc: 0.899 | ARI: 0.808 | NMI: 0.837 | F1: 0.891 | Recall: 0.894\n",
      "  500 labels → Acc: 0.961 | ARI: 0.927 | NMI: 0.937 | F1: 0.957 | Recall: 0.960\n"
     ]
    }
   ],
   "execution_count": 27
  },
  {
   "metadata": {
    "ExecuteTime": {
     "end_time": "2025-08-19T22:36:45.802633Z",
     "start_time": "2025-08-19T22:36:45.290185Z"
    }
   },
   "cell_type": "code",
   "source": "plot_accuracy(\"InCoder\", InCoder_pp, func=\"label_propagation\")",
   "id": "7bea67c0a7a487e1",
   "outputs": [
    {
     "name": "stdout",
     "output_type": "stream",
     "text": [
      "Results saved to results.csv\n"
     ]
    }
   ],
   "execution_count": 28
  },
  {
   "metadata": {},
   "cell_type": "markdown",
   "source": "### Label Spreading",
   "id": "b515920b6846b873"
  },
  {
   "metadata": {
    "ExecuteTime": {
     "end_time": "2025-08-19T22:42:38.963851Z",
     "start_time": "2025-08-19T22:36:45.889926Z"
    }
   },
   "cell_type": "code",
   "source": [
    "InCoder_sp = run_active_learning(\"embeddings/java_InCoder_embeddings.pkl\", func=\"label_spreading\")\n",
    "print_results(\"InCoder\", InCoder_sp)"
   ],
   "id": "96fe7ddbf75626ef",
   "outputs": [
    {
     "name": "stdout",
     "output_type": "stream",
     "text": [
      "=== InCoder Accuracy Results ===\n",
      "\n",
      "\n",
      "Active Learning (Random Sampling):\n",
      "  50 labels → Acc: 0.658 | ARI: 0.447 | NMI: 0.600 | F1: 0.658 | Recall: 0.651\n",
      "  100 labels → Acc: 0.782 | ARI: 0.616 | NMI: 0.714 | F1: 0.776 | Recall: 0.784\n",
      "  250 labels → Acc: 0.868 | ARI: 0.749 | NMI: 0.801 | F1: 0.861 | Recall: 0.867\n",
      "  500 labels → Acc: 0.942 | ARI: 0.886 | NMI: 0.898 | F1: 0.936 | Recall: 0.940\n",
      "\n",
      "Active Learning (Entropy-based):\n",
      "  50 labels → Acc: 0.658 | ARI: 0.447 | NMI: 0.600 | F1: 0.658 | Recall: 0.651\n",
      "  100 labels → Acc: 0.687 | ARI: 0.475 | NMI: 0.650 | F1: 0.689 | Recall: 0.688\n",
      "  250 labels → Acc: 0.712 | ARI: 0.527 | NMI: 0.674 | F1: 0.705 | Recall: 0.716\n",
      "  500 labels → Acc: 0.743 | ARI: 0.574 | NMI: 0.701 | F1: 0.733 | Recall: 0.747\n",
      "\n",
      "Active Learning (Class-balance Sampling):\n",
      "  50 labels → Acc: 0.658 | ARI: 0.447 | NMI: 0.600 | F1: 0.658 | Recall: 0.651\n",
      "  100 labels → Acc: 0.701 | ARI: 0.500 | NMI: 0.665 | F1: 0.697 | Recall: 0.706\n",
      "  250 labels → Acc: 0.770 | ARI: 0.587 | NMI: 0.717 | F1: 0.766 | Recall: 0.777\n",
      "  500 labels → Acc: 0.863 | ARI: 0.741 | NMI: 0.827 | F1: 0.859 | Recall: 0.869\n",
      "\n",
      "Active Learning (Random → Entropy (start <100)):\n",
      "  50 labels → Acc: 0.658 | ARI: 0.447 | NMI: 0.600 | F1: 0.658 | Recall: 0.651\n",
      "  100 labels → Acc: 0.782 | ARI: 0.616 | NMI: 0.714 | F1: 0.776 | Recall: 0.784\n",
      "  250 labels → Acc: 0.817 | ARI: 0.658 | NMI: 0.760 | F1: 0.812 | Recall: 0.825\n",
      "  500 labels → Acc: 0.892 | ARI: 0.790 | NMI: 0.855 | F1: 0.888 | Recall: 0.897\n",
      "\n",
      "Active Learning (Random → Entropy (start <250)):\n",
      "  50 labels → Acc: 0.658 | ARI: 0.447 | NMI: 0.600 | F1: 0.658 | Recall: 0.651\n",
      "  100 labels → Acc: 0.782 | ARI: 0.616 | NMI: 0.714 | F1: 0.776 | Recall: 0.784\n",
      "  250 labels → Acc: 0.868 | ARI: 0.749 | NMI: 0.801 | F1: 0.861 | Recall: 0.867\n",
      "  500 labels → Acc: 0.935 | ARI: 0.873 | NMI: 0.902 | F1: 0.931 | Recall: 0.936\n"
     ]
    }
   ],
   "execution_count": 29
  },
  {
   "metadata": {
    "ExecuteTime": {
     "end_time": "2025-08-19T22:42:39.420313Z",
     "start_time": "2025-08-19T22:42:39.059185Z"
    }
   },
   "cell_type": "code",
   "source": "plot_accuracy(\"InCoder\", InCoder_sp, func=\"label_spreading\")",
   "id": "57052e39d72e4f21",
   "outputs": [
    {
     "name": "stdout",
     "output_type": "stream",
     "text": [
      "Results saved to results.csv\n"
     ]
    }
   ],
   "execution_count": 30
  }
 ],
 "metadata": {
  "kernelspec": {
   "display_name": "Python 3",
   "language": "python",
   "name": "python3"
  },
  "language_info": {
   "codemirror_mode": {
    "name": "ipython",
    "version": 2
   },
   "file_extension": ".py",
   "mimetype": "text/x-python",
   "name": "python",
   "nbconvert_exporter": "python",
   "pygments_lexer": "ipython2",
   "version": "2.7.6"
  }
 },
 "nbformat": 4,
 "nbformat_minor": 5
}
