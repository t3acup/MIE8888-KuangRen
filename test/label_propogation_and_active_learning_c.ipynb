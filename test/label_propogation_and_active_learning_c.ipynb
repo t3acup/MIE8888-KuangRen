{
 "cells": [
  {
   "cell_type": "code",
   "id": "initial_id",
   "metadata": {
    "collapsed": true,
    "ExecuteTime": {
     "end_time": "2025-08-19T22:44:42.633592Z",
     "start_time": "2025-08-19T22:44:42.612727Z"
    }
   },
   "source": [
    "import numpy as np\n",
    "import pandas as pd\n",
    "import matplotlib.pyplot as plt\n",
    "from sklearn.semi_supervised import LabelPropagation, LabelSpreading\n",
    "from sklearn.metrics import accuracy_score, f1_score, adjusted_rand_score, normalized_mutual_info_score, recall_score\n",
    "from scipy.stats import entropy\n",
    "from collections import defaultdict\n",
    "import warnings\n",
    "from sklearn.exceptions import ConvergenceWarning\n",
    "\n",
    "# Add this near the top of your script or notebook\n",
    "warnings.filterwarnings(\"ignore\", category=ConvergenceWarning)"
   ],
   "outputs": [],
   "execution_count": 6
  },
  {
   "metadata": {},
   "cell_type": "markdown",
   "source": "## Function",
   "id": "a33987a13c08ae40"
  },
  {
   "metadata": {
    "ExecuteTime": {
     "end_time": "2025-08-19T22:44:42.663575Z",
     "start_time": "2025-08-19T22:44:42.636988Z"
    }
   },
   "cell_type": "code",
   "source": [
    "total_labeled_targets=[50, 100, 250, 500]\n",
    "\n",
    "def label_propagation(X, y, strategy=\"uniform\", \n",
    "                             initial_labels_per_class=5, seed=42, repeats=5):\n",
    "    total_labeled_targets = [50, 100, 250, 500]\n",
    "    n_classes = len(np.unique(y))\n",
    "    total_samples = len(y)\n",
    "\n",
    "    all_runs_metrics = defaultdict(list)\n",
    "\n",
    "    for r in range(repeats):\n",
    "        rng = np.random.RandomState(seed + r)\n",
    "        labeled_mask = np.zeros(total_samples, dtype=bool)\n",
    "\n",
    "        for cls in range(n_classes):\n",
    "            cls_indices = np.where(y == cls)[0]\n",
    "            labeled_indices = rng.choice(cls_indices, initial_labels_per_class, replace=False)\n",
    "            labeled_mask[labeled_indices] = True\n",
    "\n",
    "        y_partial = -np.ones(total_samples)\n",
    "        y_partial[labeled_mask] = y[labeled_mask]\n",
    "        queried = labeled_mask.sum()\n",
    "        batch_sizes = [10, 30, 50]\n",
    "        batch_idx = 0\n",
    "        evaluated_targets = set()\n",
    "\n",
    "        while queried <= total_labeled_targets[-1]:\n",
    "            batch_size = batch_sizes[min(batch_idx, len(batch_sizes) - 1)]\n",
    "            model = LabelPropagation(kernel='rbf', gamma=20, max_iter=1000)\n",
    "            model.fit(X, y_partial)\n",
    "            probs = model.label_distributions_\n",
    "            score = entropy(probs.T)\n",
    "            unlabeled_indices = np.where(~labeled_mask)[0]\n",
    "\n",
    "            # === Evaluation ===\n",
    "            for target in total_labeled_targets:\n",
    "                if queried >= target and target not in evaluated_targets:\n",
    "                    pred = model.transduction_\n",
    "                    all_runs_metrics[target, \"Accuracy\"].append(accuracy_score(y, pred))\n",
    "                    all_runs_metrics[target, \"ARI\"].append(adjusted_rand_score(y, pred))\n",
    "                    all_runs_metrics[target, \"NMI\"].append(normalized_mutual_info_score(y, pred))\n",
    "                    all_runs_metrics[target, \"F1\"].append(f1_score(y, pred, average=\"macro\"))\n",
    "                    all_runs_metrics[target, \"Recall\"].append(recall_score(y, pred, average=\"macro\"))\n",
    "                    evaluated_targets.add(target)\n",
    "                    batch_idx += 1\n",
    "\n",
    "            if queried > total_labeled_targets[-1]:\n",
    "                break\n",
    "\n",
    "            # === Query selection ===\n",
    "            if strategy == \"entropy\":\n",
    "                query_indices = unlabeled_indices[np.argsort(score[unlabeled_indices])[-batch_size:]]\n",
    "\n",
    "            elif strategy == \"uniform\":\n",
    "                query_indices = []\n",
    "                per_class_quota = batch_size // n_classes\n",
    "                for cls in range(n_classes):\n",
    "                    cls_unlabeled = np.setdiff1d(np.where(y == cls)[0], np.where(labeled_mask)[0])\n",
    "                    if len(cls_unlabeled) == 0:\n",
    "                        continue\n",
    "                    cls_entropy_scores = score[cls_unlabeled]\n",
    "                    top_cls_indices = cls_unlabeled[np.argsort(cls_entropy_scores)[-min(per_class_quota, len(cls_unlabeled)):]]\n",
    "                    query_indices.extend(top_cls_indices)\n",
    "                remaining = batch_size - len(query_indices)\n",
    "                if remaining > 0:\n",
    "                    remaining_indices = np.setdiff1d(unlabeled_indices, query_indices)\n",
    "                    top_remaining = remaining_indices[np.argsort(score[remaining_indices])[-remaining:]]\n",
    "                    query_indices.extend(top_remaining)\n",
    "\n",
    "            elif strategy == \"random\":\n",
    "                query_indices = rng.choice(unlabeled_indices, batch_size, replace=False)\n",
    "            \n",
    "            elif strategy == \"random_then_entropy_1\":\n",
    "                if queried < 100:\n",
    "                    query_indices = rng.choice(unlabeled_indices, batch_size, replace=False)\n",
    "                else:\n",
    "                    query_indices = []\n",
    "                    per_class_quota = batch_size // n_classes\n",
    "                    for cls in range(n_classes):\n",
    "                        cls_unlabeled = np.setdiff1d(np.where(y == cls)[0], np.where(labeled_mask)[0])\n",
    "                        if len(cls_unlabeled) == 0:\n",
    "                            continue\n",
    "                        cls_entropy_scores = score[cls_unlabeled]\n",
    "                        top_cls_indices = cls_unlabeled[np.argsort(cls_entropy_scores)[-min(per_class_quota, len(cls_unlabeled)):]]\n",
    "                        query_indices.extend(top_cls_indices)\n",
    "                    remaining = batch_size - len(query_indices)\n",
    "                    if remaining > 0:\n",
    "                        remaining_indices = np.setdiff1d(unlabeled_indices, query_indices)\n",
    "                        top_remaining = remaining_indices[np.argsort(score[remaining_indices])[-remaining:]]\n",
    "                        query_indices.extend(top_remaining)\n",
    "                    \n",
    "            elif strategy == \"random_then_entropy_2\":\n",
    "                if queried < 250:\n",
    "                    query_indices = rng.choice(unlabeled_indices, batch_size, replace=False)\n",
    "                else:\n",
    "                    query_indices = []\n",
    "                    per_class_quota = batch_size // n_classes\n",
    "                    for cls in range(n_classes):\n",
    "                        cls_unlabeled = np.setdiff1d(np.where(y == cls)[0], np.where(labeled_mask)[0])\n",
    "                        if len(cls_unlabeled) == 0:\n",
    "                            continue\n",
    "                        cls_entropy_scores = score[cls_unlabeled]\n",
    "                        top_cls_indices = cls_unlabeled[np.argsort(cls_entropy_scores)[-min(per_class_quota, len(cls_unlabeled)):]]\n",
    "                        query_indices.extend(top_cls_indices)\n",
    "                    remaining = batch_size - len(query_indices)\n",
    "                    if remaining > 0:\n",
    "                        remaining_indices = np.setdiff1d(unlabeled_indices, query_indices)\n",
    "                        top_remaining = remaining_indices[np.argsort(score[remaining_indices])[-remaining:]]\n",
    "                        query_indices.extend(top_remaining)\n",
    "                \n",
    "            else:\n",
    "                print(strategy)\n",
    "                raise ValueError(\"Invalid strategy.\")\n",
    "\n",
    "            labeled_mask[query_indices] = True\n",
    "            y_partial[query_indices] = y[query_indices]\n",
    "            queried += len(query_indices)\n",
    "\n",
    "    final_results = []\n",
    "    for target in total_labeled_targets:\n",
    "        metrics = {\n",
    "            \"Labeled\": target,\n",
    "            \"Accuracy\": np.mean(all_runs_metrics[(target, \"Accuracy\")]),\n",
    "            \"ARI\": np.mean(all_runs_metrics[(target, \"ARI\")]),\n",
    "            \"NMI\": np.mean(all_runs_metrics[(target, \"NMI\")]),\n",
    "            \"F1\": np.mean(all_runs_metrics[(target, \"F1\")]),\n",
    "            \"Recall\": np.mean(all_runs_metrics[(target, \"Recall\")]),\n",
    "        }\n",
    "        final_results.append(metrics)\n",
    "\n",
    "    return final_results"
   ],
   "id": "445868807c017a1f",
   "outputs": [],
   "execution_count": 7
  },
  {
   "metadata": {
    "ExecuteTime": {
     "end_time": "2025-08-19T22:44:42.693705Z",
     "start_time": "2025-08-19T22:44:42.679813Z"
    }
   },
   "cell_type": "code",
   "source": [
    "def label_spreading(X, y, strategy=\"uniform\", \n",
    "                                             initial_labels_per_class=5, seed=42, repeats=5):\n",
    "    total_labeled_targets = [50, 100, 250, 500]\n",
    "    n_classes = len(np.unique(y))\n",
    "    total_samples = len(y)\n",
    "\n",
    "    all_runs_metrics = defaultdict(list)\n",
    "\n",
    "    for r in range(repeats):\n",
    "        rng = np.random.RandomState(seed + r)\n",
    "        labeled_mask = np.zeros(total_samples, dtype=bool)\n",
    "\n",
    "        for cls in range(n_classes):\n",
    "            cls_indices = np.where(y == cls)[0]\n",
    "            labeled_indices = rng.choice(cls_indices, initial_labels_per_class, replace=False)\n",
    "            labeled_mask[labeled_indices] = True\n",
    "\n",
    "        y_partial = -np.ones(total_samples)\n",
    "        y_partial[labeled_mask] = y[labeled_mask]\n",
    "        queried = labeled_mask.sum()\n",
    "        batch_sizes = [10, 30, 50]\n",
    "        batch_idx = 0\n",
    "        evaluated_targets = set()\n",
    "\n",
    "        while queried <= total_labeled_targets[-1]:\n",
    "            batch_size = batch_sizes[min(batch_idx, len(batch_sizes) - 1)]\n",
    "            model = LabelSpreading(kernel='rbf', gamma=20, max_iter=1000)\n",
    "            model.fit(X, y_partial)\n",
    "            probs = model.label_distributions_\n",
    "            score = entropy(probs.T)\n",
    "            unlabeled_indices = np.where(~labeled_mask)[0]\n",
    "\n",
    "            for target in total_labeled_targets:\n",
    "                if queried >= target and target not in evaluated_targets:\n",
    "                    pred = model.transduction_\n",
    "                    all_runs_metrics[target, \"Accuracy\"].append(accuracy_score(y, pred))\n",
    "                    all_runs_metrics[target, \"ARI\"].append(adjusted_rand_score(y, pred))\n",
    "                    all_runs_metrics[target, \"NMI\"].append(normalized_mutual_info_score(y, pred))\n",
    "                    all_runs_metrics[target, \"F1\"].append(f1_score(y, pred, average=\"macro\"))\n",
    "                    all_runs_metrics[target, \"Recall\"].append(recall_score(y, pred, average=\"macro\"))\n",
    "                    evaluated_targets.add(target)\n",
    "                    batch_idx += 1\n",
    "\n",
    "            if queried > total_labeled_targets[-1]:\n",
    "                break\n",
    "\n",
    "            if strategy == \"entropy\":\n",
    "                query_indices = unlabeled_indices[np.argsort(score[unlabeled_indices])[-batch_size:]]\n",
    "\n",
    "            elif strategy == \"uniform\":\n",
    "                query_indices = []\n",
    "                per_class_quota = batch_size // n_classes\n",
    "                for cls in range(n_classes):\n",
    "                    cls_unlabeled = np.setdiff1d(np.where(y == cls)[0], np.where(labeled_mask)[0])\n",
    "                    if len(cls_unlabeled) == 0:\n",
    "                        continue\n",
    "                    cls_entropy_scores = score[cls_unlabeled]\n",
    "                    top_cls_indices = cls_unlabeled[np.argsort(cls_entropy_scores)[-min(per_class_quota, len(cls_unlabeled)):]]\n",
    "                    query_indices.extend(top_cls_indices)\n",
    "                remaining = batch_size - len(query_indices)\n",
    "                if remaining > 0:\n",
    "                    remaining_indices = np.setdiff1d(unlabeled_indices, query_indices)\n",
    "                    top_remaining = remaining_indices[np.argsort(score[remaining_indices])[-remaining:]]\n",
    "                    query_indices.extend(top_remaining)\n",
    "\n",
    "            elif strategy == \"random\":\n",
    "                query_indices = rng.choice(unlabeled_indices, batch_size, replace=False)\n",
    "\n",
    "            elif strategy == \"random_then_entropy_1\":\n",
    "                if queried < 100:\n",
    "                    query_indices = rng.choice(unlabeled_indices, batch_size, replace=False)\n",
    "                else:\n",
    "                    query_indices = []\n",
    "                    per_class_quota = batch_size // n_classes\n",
    "                    for cls in range(n_classes):\n",
    "                        cls_unlabeled = np.setdiff1d(np.where(y == cls)[0], np.where(labeled_mask)[0])\n",
    "                        if len(cls_unlabeled) == 0:\n",
    "                            continue\n",
    "                        cls_entropy_scores = score[cls_unlabeled]\n",
    "                        top_cls_indices = cls_unlabeled[np.argsort(cls_entropy_scores)[-min(per_class_quota, len(cls_unlabeled)):]]\n",
    "                        query_indices.extend(top_cls_indices)\n",
    "                    remaining = batch_size - len(query_indices)\n",
    "                    if remaining > 0:\n",
    "                        remaining_indices = np.setdiff1d(unlabeled_indices, query_indices)\n",
    "                        top_remaining = remaining_indices[np.argsort(score[remaining_indices])[-remaining:]]\n",
    "                        query_indices.extend(top_remaining)\n",
    "\n",
    "            elif strategy == \"random_then_entropy_2\":\n",
    "                if queried < 250:\n",
    "                    query_indices = rng.choice(unlabeled_indices, batch_size, replace=False)\n",
    "                else:\n",
    "                    query_indices = []\n",
    "                    per_class_quota = batch_size // n_classes\n",
    "                    for cls in range(n_classes):\n",
    "                        cls_unlabeled = np.setdiff1d(np.where(y == cls)[0], np.where(labeled_mask)[0])\n",
    "                        if len(cls_unlabeled) == 0:\n",
    "                            continue\n",
    "                        cls_entropy_scores = score[cls_unlabeled]\n",
    "                        top_cls_indices = cls_unlabeled[np.argsort(cls_entropy_scores)[-min(per_class_quota, len(cls_unlabeled)):]]\n",
    "                        query_indices.extend(top_cls_indices)\n",
    "                    remaining = batch_size - len(query_indices)\n",
    "                    if remaining > 0:\n",
    "                        remaining_indices = np.setdiff1d(unlabeled_indices, query_indices)\n",
    "                        top_remaining = remaining_indices[np.argsort(score[remaining_indices])[-remaining:]]\n",
    "                        query_indices.extend(top_remaining)\n",
    "\n",
    "            else:\n",
    "                raise ValueError(f\"Invalid strategy: {strategy}\")\n",
    "\n",
    "            labeled_mask[query_indices] = True\n",
    "            y_partial[query_indices] = y[query_indices]\n",
    "            queried += len(query_indices)\n",
    "\n",
    "    final_results = []\n",
    "    for target in total_labeled_targets:\n",
    "        metrics = {\n",
    "            \"Labeled\": target,\n",
    "            \"Accuracy\": np.mean(all_runs_metrics[(target, \"Accuracy\")]),\n",
    "            \"ARI\": np.mean(all_runs_metrics[(target, \"ARI\")]),\n",
    "            \"NMI\": np.mean(all_runs_metrics[(target, \"NMI\")]),\n",
    "            \"F1\": np.mean(all_runs_metrics[(target, \"F1\")]),\n",
    "            \"Recall\": np.mean(all_runs_metrics[(target, \"Recall\")]),\n",
    "        }\n",
    "        final_results.append(metrics)\n",
    "\n",
    "    return final_results"
   ],
   "id": "a66578497c9c1de6",
   "outputs": [],
   "execution_count": 8
  },
  {
   "metadata": {
    "ExecuteTime": {
     "end_time": "2025-08-19T22:44:42.723844Z",
     "start_time": "2025-08-19T22:44:42.709887Z"
    }
   },
   "cell_type": "code",
   "source": [
    "def run_active_learning(file_path, repeats=5, func=\"label_propagation\"):\n",
    "    df = pd.read_pickle(file_path)\n",
    "    X = np.vstack(df[\"embedding\"].values)\n",
    "    y = pd.factorize(df[\"cluster\"])[0]\n",
    "\n",
    "    strategies = [\n",
    "        (\"random\", \"Random Sampling\"),\n",
    "        (\"entropy\", \"Entropy-based\"),\n",
    "        (\"uniform\", \"Class-balance Sampling\"),\n",
    "        (\"random_then_entropy_1\", \"Random → Entropy (start <100)\"),\n",
    "        (\"random_then_entropy_2\", \"Random → Entropy (start <250)\")\n",
    "    ]\n",
    "\n",
    "    # Select the active learning simulation function\n",
    "    if func == \"label_propagation\":\n",
    "        simulate = label_propagation\n",
    "    elif func == \"label_spreading\":\n",
    "        simulate = label_spreading\n",
    "    else:\n",
    "        raise ValueError(f\"Invalid func: {func}. Must be 'label_propagation' or 'label_spreading'.\")\n",
    "\n",
    "    results = {}\n",
    "    for strategy_key, _ in strategies:\n",
    "        results[strategy_key] = simulate(X, y, strategy=strategy_key, repeats=repeats)\n",
    "\n",
    "    return results\n",
    "\n",
    "\n",
    "\n",
    "def print_results(model_name, results_dict):\n",
    "    print(f\"=== {model_name} Accuracy Results ===\\n\")\n",
    "\n",
    "    strategy_names = {\n",
    "        \"random\": \"Random Sampling\",\n",
    "        \"entropy\": \"Entropy-based\",\n",
    "        \"uniform\": \"Class-balance Sampling\",\n",
    "        \"random_then_entropy_1\": \"Random → Entropy (start <100)\",\n",
    "        \"random_then_entropy_2\": \"Random → Entropy (start <250)\"\n",
    "    }\n",
    "\n",
    "    def print_al_metrics(name, metrics):\n",
    "        print(f\"\\nActive Learning ({name}):\")\n",
    "        for m in metrics:\n",
    "            print(f\"  {m['Labeled']} labels → Acc: {m['Accuracy']:.3f} | \"\n",
    "                  f\"ARI: {m['ARI']:.3f} | NMI: {m['NMI']:.3f} | \"\n",
    "                  f\"F1: {m['F1']:.3f} | Recall: {m['Recall']:.3f}\")\n",
    "\n",
    "    for key, name in strategy_names.items():\n",
    "        if key in results_dict:\n",
    "            print_al_metrics(name, results_dict[key])\n",
    "\n",
    "def save_results_to_csv(model_name, results_dict, func, programming_language=\"c\", out_file=\"results_c.csv\"):\n",
    "    \"\"\"\n",
    "    Save active learning results into a CSV file with a long-format structure.\n",
    "    \"\"\"\n",
    "    rows = []\n",
    "    for strategy, metrics in results_dict.items():\n",
    "        for m in metrics:\n",
    "            rows.append({\n",
    "                \"programming_language\": programming_language,\n",
    "                \"func\": func,   # label_propagation or label_spreading\n",
    "                \"embedding\": model_name,  # CodeBERT, GraphCodeBERT, etc.\n",
    "                \"strategy\": strategy,\n",
    "                \"labeled\": m[\"Labeled\"],\n",
    "                \"accuracy\": m[\"Accuracy\"],\n",
    "                \"ari\": m[\"ARI\"],\n",
    "                \"nmi\": m[\"NMI\"],\n",
    "                \"f1\": m[\"F1\"],\n",
    "                \"recall\": m[\"Recall\"]\n",
    "            })\n",
    "\n",
    "    df = pd.DataFrame(rows)\n",
    "\n",
    "    # Append if file exists, else create\n",
    "    try:\n",
    "        existing = pd.read_csv(out_file)\n",
    "        df = pd.concat([existing, df], ignore_index=True)\n",
    "    except FileNotFoundError:\n",
    "        pass\n",
    "\n",
    "    df.to_csv(out_file, index=False)\n",
    "    print(f\"Results saved to {out_file}\")\n",
    "\n",
    "\n",
    "def plot_accuracy(model_name, results_dict, func, programming_language=\"java\", save_csv=True):\n",
    "    plt.figure(figsize=(10, 6))\n",
    "\n",
    "    strategy_styles = {\n",
    "        \"random\": (\"Random\", \"o\", \"-.\"),\n",
    "        \"entropy\": (\"Entropy\", \"o\", \"--\"),\n",
    "        \"uniform\": (\"Uniform\", \"s\", \"--\"),\n",
    "        \"random_then_entropy_1\": (\"Random → Entropy (<100)\", \"D\", \"-\"),\n",
    "        \"random_then_entropy_2\": (\"Random → Entropy (<250)\", \"P\", \"-\")\n",
    "    }\n",
    "\n",
    "    for key, (label, marker, style) in strategy_styles.items():\n",
    "        if key in results_dict:\n",
    "            xs = [m[\"Labeled\"] for m in results_dict[key]]\n",
    "            ys = [m[\"Accuracy\"] for m in results_dict[key]]\n",
    "            plt.plot(xs, ys, label=label, marker=marker, linestyle=style)\n",
    "\n",
    "    plt.title(f\"{model_name} - Accuracy vs. Labeled Samples\")\n",
    "    plt.xlabel(\"# Labeled Samples\")\n",
    "    plt.ylabel(\"Accuracy\")\n",
    "    plt.ylim(0, 1.05)\n",
    "    plt.xticks([50, 100, 250, 500])\n",
    "    plt.legend()\n",
    "    plt.grid(True)\n",
    "    plt.tight_layout()\n",
    "    \n",
    "    save_path = f\"{model_name}_{func}_{programming_language}.png\"\n",
    "    plt.savefig(save_path, dpi=300, bbox_inches=\"tight\")\n",
    "    plt.close()\n",
    "    \n",
    "    if save_csv:\n",
    "        save_results_to_csv(model_name, results_dict, func, programming_language)"
   ],
   "id": "7619ae705b3b7be",
   "outputs": [],
   "execution_count": 9
  },
  {
   "metadata": {},
   "cell_type": "markdown",
   "source": "## CodeBERT",
   "id": "76a63073d2e49453"
  },
  {
   "metadata": {},
   "cell_type": "markdown",
   "source": "### Label Propagation",
   "id": "297436ca8c14f9b0"
  },
  {
   "metadata": {
    "ExecuteTime": {
     "end_time": "2025-08-19T22:59:27.712705Z",
     "start_time": "2025-08-19T22:44:42.740419Z"
    }
   },
   "cell_type": "code",
   "source": "codeBert_pp = run_active_learning(\"embeddings/cpp_CodeBERT_embeddings.pkl\", func=\"label_propagation\")",
   "id": "e5379e5330187db8",
   "outputs": [],
   "execution_count": 10
  },
  {
   "metadata": {
    "ExecuteTime": {
     "end_time": "2025-08-19T22:59:27.742713Z",
     "start_time": "2025-08-19T22:59:27.728972Z"
    }
   },
   "cell_type": "code",
   "source": "print_results(\"CodeBERT\", codeBert_pp)",
   "id": "41f123f6a703081a",
   "outputs": [
    {
     "name": "stdout",
     "output_type": "stream",
     "text": [
      "=== CodeBERT Accuracy Results ===\n",
      "\n",
      "\n",
      "Active Learning (Random Sampling):\n",
      "  50 labels → Acc: 0.407 | ARI: 0.154 | NMI: 0.272 | F1: 0.402 | Recall: 0.414\n",
      "  100 labels → Acc: 0.542 | ARI: 0.271 | NMI: 0.398 | F1: 0.539 | Recall: 0.550\n",
      "  250 labels → Acc: 0.724 | ARI: 0.499 | NMI: 0.582 | F1: 0.721 | Recall: 0.724\n",
      "  500 labels → Acc: 0.873 | ARI: 0.744 | NMI: 0.777 | F1: 0.871 | Recall: 0.872\n",
      "\n",
      "Active Learning (Entropy-based):\n",
      "  50 labels → Acc: 0.407 | ARI: 0.154 | NMI: 0.272 | F1: 0.402 | Recall: 0.414\n",
      "  100 labels → Acc: 0.447 | ARI: 0.186 | NMI: 0.302 | F1: 0.445 | Recall: 0.452\n",
      "  250 labels → Acc: 0.457 | ARI: 0.193 | NMI: 0.317 | F1: 0.454 | Recall: 0.461\n",
      "  500 labels → Acc: 0.496 | ARI: 0.227 | NMI: 0.355 | F1: 0.493 | Recall: 0.502\n",
      "\n",
      "Active Learning (Class-balance Sampling):\n",
      "  50 labels → Acc: 0.407 | ARI: 0.154 | NMI: 0.272 | F1: 0.402 | Recall: 0.414\n",
      "  100 labels → Acc: 0.476 | ARI: 0.208 | NMI: 0.333 | F1: 0.475 | Recall: 0.486\n",
      "  250 labels → Acc: 0.543 | ARI: 0.275 | NMI: 0.407 | F1: 0.542 | Recall: 0.555\n",
      "  500 labels → Acc: 0.636 | ARI: 0.383 | NMI: 0.518 | F1: 0.638 | Recall: 0.652\n",
      "\n",
      "Active Learning (Random → Entropy (start <100)):\n",
      "  50 labels → Acc: 0.407 | ARI: 0.154 | NMI: 0.272 | F1: 0.402 | Recall: 0.414\n",
      "  100 labels → Acc: 0.542 | ARI: 0.271 | NMI: 0.398 | F1: 0.539 | Recall: 0.550\n",
      "  250 labels → Acc: 0.616 | ARI: 0.357 | NMI: 0.476 | F1: 0.614 | Recall: 0.625\n",
      "  500 labels → Acc: 0.714 | ARI: 0.487 | NMI: 0.588 | F1: 0.713 | Recall: 0.725\n",
      "\n",
      "Active Learning (Random → Entropy (start <250)):\n",
      "  50 labels → Acc: 0.407 | ARI: 0.154 | NMI: 0.272 | F1: 0.402 | Recall: 0.414\n",
      "  100 labels → Acc: 0.542 | ARI: 0.271 | NMI: 0.398 | F1: 0.539 | Recall: 0.550\n",
      "  250 labels → Acc: 0.724 | ARI: 0.499 | NMI: 0.582 | F1: 0.721 | Recall: 0.724\n",
      "  500 labels → Acc: 0.799 | ARI: 0.614 | NMI: 0.679 | F1: 0.797 | Recall: 0.803\n"
     ]
    }
   ],
   "execution_count": 11
  },
  {
   "metadata": {
    "ExecuteTime": {
     "end_time": "2025-08-19T22:59:28.136226Z",
     "start_time": "2025-08-19T22:59:27.768717Z"
    }
   },
   "cell_type": "code",
   "source": "plot_accuracy(\"CodeBERT\", codeBert_pp, func=\"label_propagation\")",
   "id": "596676d581811737",
   "outputs": [
    {
     "name": "stdout",
     "output_type": "stream",
     "text": [
      "Results saved to results_c.csv\n"
     ]
    }
   ],
   "execution_count": 12
  },
  {
   "metadata": {},
   "cell_type": "markdown",
   "source": "### Label Spreading",
   "id": "7db3b210d4b1163a"
  },
  {
   "metadata": {
    "ExecuteTime": {
     "end_time": "2025-08-19T23:05:17.344952Z",
     "start_time": "2025-08-19T22:59:28.168347Z"
    }
   },
   "cell_type": "code",
   "source": [
    "codeBert_sp= run_active_learning(\"embeddings/cpp_CodeBERT_embeddings.pkl\", func=\"label_spreading\")\n",
    "print_results(\"CodeBERT\", codeBert_sp)"
   ],
   "id": "e60baa0a594570d8",
   "outputs": [
    {
     "name": "stdout",
     "output_type": "stream",
     "text": [
      "=== CodeBERT Accuracy Results ===\n",
      "\n",
      "\n",
      "Active Learning (Random Sampling):\n",
      "  50 labels → Acc: 0.391 | ARI: 0.139 | NMI: 0.261 | F1: 0.388 | Recall: 0.400\n",
      "  100 labels → Acc: 0.531 | ARI: 0.258 | NMI: 0.389 | F1: 0.530 | Recall: 0.539\n",
      "  250 labels → Acc: 0.720 | ARI: 0.491 | NMI: 0.575 | F1: 0.717 | Recall: 0.720\n",
      "  500 labels → Acc: 0.868 | ARI: 0.731 | NMI: 0.771 | F1: 0.868 | Recall: 0.867\n",
      "\n",
      "Active Learning (Entropy-based):\n",
      "  50 labels → Acc: 0.391 | ARI: 0.139 | NMI: 0.261 | F1: 0.388 | Recall: 0.400\n",
      "  100 labels → Acc: 0.435 | ARI: 0.176 | NMI: 0.300 | F1: 0.435 | Recall: 0.440\n",
      "  250 labels → Acc: 0.463 | ARI: 0.190 | NMI: 0.336 | F1: 0.469 | Recall: 0.468\n",
      "  500 labels → Acc: 0.501 | ARI: 0.214 | NMI: 0.367 | F1: 0.508 | Recall: 0.505\n",
      "\n",
      "Active Learning (Class-balance Sampling):\n",
      "  50 labels → Acc: 0.391 | ARI: 0.139 | NMI: 0.261 | F1: 0.388 | Recall: 0.400\n",
      "  100 labels → Acc: 0.458 | ARI: 0.184 | NMI: 0.345 | F1: 0.468 | Recall: 0.469\n",
      "  250 labels → Acc: 0.515 | ARI: 0.236 | NMI: 0.396 | F1: 0.526 | Recall: 0.529\n",
      "  500 labels → Acc: 0.613 | ARI: 0.340 | NMI: 0.504 | F1: 0.626 | Recall: 0.629\n",
      "\n",
      "Active Learning (Random → Entropy (start <100)):\n",
      "  50 labels → Acc: 0.391 | ARI: 0.139 | NMI: 0.261 | F1: 0.388 | Recall: 0.400\n",
      "  100 labels → Acc: 0.531 | ARI: 0.258 | NMI: 0.389 | F1: 0.530 | Recall: 0.539\n",
      "  250 labels → Acc: 0.596 | ARI: 0.316 | NMI: 0.469 | F1: 0.603 | Recall: 0.604\n",
      "  500 labels → Acc: 0.681 | ARI: 0.421 | NMI: 0.566 | F1: 0.689 | Recall: 0.695\n",
      "\n",
      "Active Learning (Random → Entropy (start <250)):\n",
      "  50 labels → Acc: 0.391 | ARI: 0.139 | NMI: 0.261 | F1: 0.388 | Recall: 0.400\n",
      "  100 labels → Acc: 0.531 | ARI: 0.258 | NMI: 0.389 | F1: 0.530 | Recall: 0.539\n",
      "  250 labels → Acc: 0.720 | ARI: 0.491 | NMI: 0.575 | F1: 0.717 | Recall: 0.720\n",
      "  500 labels → Acc: 0.795 | ARI: 0.598 | NMI: 0.676 | F1: 0.798 | Recall: 0.799\n"
     ]
    }
   ],
   "execution_count": 13
  },
  {
   "metadata": {
    "ExecuteTime": {
     "end_time": "2025-08-19T23:05:17.708933Z",
     "start_time": "2025-08-19T23:05:17.390049Z"
    }
   },
   "cell_type": "code",
   "source": "plot_accuracy(\"CodeBERT\", codeBert_sp, func=\"label_spreading\")",
   "id": "2ca230965dd02174",
   "outputs": [
    {
     "name": "stdout",
     "output_type": "stream",
     "text": [
      "Results saved to results_c.csv\n"
     ]
    }
   ],
   "execution_count": 14
  },
  {
   "metadata": {},
   "cell_type": "markdown",
   "source": "## GraphCodeBERT",
   "id": "85ef87c21148c912"
  },
  {
   "metadata": {},
   "cell_type": "markdown",
   "source": "### Label Propagation",
   "id": "afed6245ff0d1021"
  },
  {
   "metadata": {
    "ExecuteTime": {
     "end_time": "2025-08-19T23:09:06.141349Z",
     "start_time": "2025-08-19T23:05:17.740426Z"
    }
   },
   "cell_type": "code",
   "source": [
    "graphCodeBert_pp = run_active_learning(\"embeddings/cpp_GraphCodeBERT_embeddings.pkl\", func=\"label_propagation\")\n",
    "print_results(\"GraphCodeBERT\", graphCodeBert_pp)"
   ],
   "id": "5f03ce285b9a96c1",
   "outputs": [
    {
     "name": "stdout",
     "output_type": "stream",
     "text": [
      "=== GraphCodeBERT Accuracy Results ===\n",
      "\n",
      "\n",
      "Active Learning (Random Sampling):\n",
      "  50 labels → Acc: 0.242 | ARI: 0.011 | NMI: 0.233 | F1: 0.284 | Recall: 0.255\n",
      "  100 labels → Acc: 0.410 | ARI: 0.059 | NMI: 0.404 | F1: 0.486 | Recall: 0.418\n",
      "  250 labels → Acc: 0.629 | ARI: 0.235 | NMI: 0.594 | F1: 0.693 | Recall: 0.631\n",
      "  500 labels → Acc: 0.823 | ARI: 0.600 | NMI: 0.767 | F1: 0.847 | Recall: 0.824\n",
      "\n",
      "Active Learning (Entropy-based):\n",
      "  50 labels → Acc: 0.242 | ARI: 0.011 | NMI: 0.233 | F1: 0.284 | Recall: 0.255\n",
      "  100 labels → Acc: 0.458 | ARI: 0.161 | NMI: 0.493 | F1: 0.461 | Recall: 0.430\n",
      "  250 labels → Acc: 0.708 | ARI: 0.512 | NMI: 0.752 | F1: 0.692 | Recall: 0.689\n",
      "  500 labels → Acc: 0.934 | ARI: 0.880 | NMI: 0.919 | F1: 0.931 | Recall: 0.930\n",
      "\n",
      "Active Learning (Class-balance Sampling):\n",
      "  50 labels → Acc: 0.242 | ARI: 0.011 | NMI: 0.233 | F1: 0.284 | Recall: 0.255\n",
      "  100 labels → Acc: 0.464 | ARI: 0.083 | NMI: 0.456 | F1: 0.551 | Recall: 0.475\n",
      "  250 labels → Acc: 0.791 | ARI: 0.508 | NMI: 0.756 | F1: 0.833 | Recall: 0.803\n",
      "  500 labels → Acc: 0.964 | ARI: 0.923 | NMI: 0.947 | F1: 0.965 | Recall: 0.966\n",
      "\n",
      "Active Learning (Random → Entropy (start <100)):\n",
      "  50 labels → Acc: 0.242 | ARI: 0.011 | NMI: 0.233 | F1: 0.284 | Recall: 0.255\n",
      "  100 labels → Acc: 0.410 | ARI: 0.059 | NMI: 0.404 | F1: 0.486 | Recall: 0.418\n",
      "  250 labels → Acc: 0.751 | ARI: 0.438 | NMI: 0.709 | F1: 0.797 | Recall: 0.759\n",
      "  500 labels → Acc: 0.963 | ARI: 0.921 | NMI: 0.944 | F1: 0.964 | Recall: 0.966\n",
      "\n",
      "Active Learning (Random → Entropy (start <250)):\n",
      "  50 labels → Acc: 0.242 | ARI: 0.011 | NMI: 0.233 | F1: 0.284 | Recall: 0.255\n",
      "  100 labels → Acc: 0.410 | ARI: 0.059 | NMI: 0.404 | F1: 0.486 | Recall: 0.418\n",
      "  250 labels → Acc: 0.629 | ARI: 0.235 | NMI: 0.594 | F1: 0.693 | Recall: 0.631\n",
      "  500 labels → Acc: 0.963 | ARI: 0.919 | NMI: 0.944 | F1: 0.965 | Recall: 0.966\n"
     ]
    }
   ],
   "execution_count": 15
  },
  {
   "metadata": {
    "ExecuteTime": {
     "end_time": "2025-08-19T23:09:06.519680Z",
     "start_time": "2025-08-19T23:09:06.177863Z"
    }
   },
   "cell_type": "code",
   "source": "plot_accuracy(\"GraphCodeBERT\", graphCodeBert_pp, func=\"label_propagation\")",
   "id": "2f6349e1210422e4",
   "outputs": [
    {
     "name": "stdout",
     "output_type": "stream",
     "text": [
      "Results saved to results_c.csv\n"
     ]
    }
   ],
   "execution_count": 16
  },
  {
   "metadata": {},
   "cell_type": "markdown",
   "source": "### Label Spreading",
   "id": "e92a74b61b175390"
  },
  {
   "metadata": {
    "ExecuteTime": {
     "end_time": "2025-08-19T23:14:39.062275Z",
     "start_time": "2025-08-19T23:09:06.536238Z"
    }
   },
   "cell_type": "code",
   "source": [
    "graphCodeBert_sp = run_active_learning(\"embeddings/cpp_GraphCodeBERT_embeddings.pkl\", func=\"label_spreading\")\n",
    "print_results(\"GraphCodeBERT\", graphCodeBert_sp)"
   ],
   "id": "a46420eb9d0397a0",
   "outputs": [
    {
     "name": "stdout",
     "output_type": "stream",
     "text": [
      "=== GraphCodeBERT Accuracy Results ===\n",
      "\n",
      "\n",
      "Active Learning (Random Sampling):\n",
      "  50 labels → Acc: 0.242 | ARI: 0.011 | NMI: 0.233 | F1: 0.284 | Recall: 0.255\n",
      "  100 labels → Acc: 0.410 | ARI: 0.059 | NMI: 0.404 | F1: 0.486 | Recall: 0.418\n",
      "  250 labels → Acc: 0.628 | ARI: 0.237 | NMI: 0.591 | F1: 0.692 | Recall: 0.630\n",
      "  500 labels → Acc: 0.823 | ARI: 0.600 | NMI: 0.767 | F1: 0.847 | Recall: 0.824\n",
      "\n",
      "Active Learning (Entropy-based):\n",
      "  50 labels → Acc: 0.242 | ARI: 0.011 | NMI: 0.233 | F1: 0.284 | Recall: 0.255\n",
      "  100 labels → Acc: 0.458 | ARI: 0.161 | NMI: 0.493 | F1: 0.461 | Recall: 0.430\n",
      "  250 labels → Acc: 0.708 | ARI: 0.512 | NMI: 0.752 | F1: 0.692 | Recall: 0.689\n",
      "  500 labels → Acc: 0.934 | ARI: 0.880 | NMI: 0.919 | F1: 0.931 | Recall: 0.930\n",
      "\n",
      "Active Learning (Class-balance Sampling):\n",
      "  50 labels → Acc: 0.242 | ARI: 0.011 | NMI: 0.233 | F1: 0.284 | Recall: 0.255\n",
      "  100 labels → Acc: 0.465 | ARI: 0.085 | NMI: 0.454 | F1: 0.551 | Recall: 0.476\n",
      "  250 labels → Acc: 0.791 | ARI: 0.508 | NMI: 0.756 | F1: 0.833 | Recall: 0.803\n",
      "  500 labels → Acc: 0.964 | ARI: 0.923 | NMI: 0.947 | F1: 0.965 | Recall: 0.966\n",
      "\n",
      "Active Learning (Random → Entropy (start <100)):\n",
      "  50 labels → Acc: 0.242 | ARI: 0.011 | NMI: 0.233 | F1: 0.284 | Recall: 0.255\n",
      "  100 labels → Acc: 0.410 | ARI: 0.059 | NMI: 0.404 | F1: 0.486 | Recall: 0.418\n",
      "  250 labels → Acc: 0.752 | ARI: 0.440 | NMI: 0.710 | F1: 0.798 | Recall: 0.760\n",
      "  500 labels → Acc: 0.963 | ARI: 0.921 | NMI: 0.944 | F1: 0.964 | Recall: 0.966\n",
      "\n",
      "Active Learning (Random → Entropy (start <250)):\n",
      "  50 labels → Acc: 0.242 | ARI: 0.011 | NMI: 0.233 | F1: 0.284 | Recall: 0.255\n",
      "  100 labels → Acc: 0.410 | ARI: 0.059 | NMI: 0.404 | F1: 0.486 | Recall: 0.418\n",
      "  250 labels → Acc: 0.628 | ARI: 0.237 | NMI: 0.591 | F1: 0.692 | Recall: 0.630\n",
      "  500 labels → Acc: 0.963 | ARI: 0.919 | NMI: 0.944 | F1: 0.965 | Recall: 0.966\n"
     ]
    }
   ],
   "execution_count": 17
  },
  {
   "metadata": {
    "ExecuteTime": {
     "end_time": "2025-08-19T23:14:39.443078Z",
     "start_time": "2025-08-19T23:14:39.126154Z"
    }
   },
   "cell_type": "code",
   "source": "plot_accuracy(\"GraphCodeBERT\", graphCodeBert_sp, func=\"label_spreading\")",
   "id": "24e74dfbf0f4f80d",
   "outputs": [
    {
     "name": "stdout",
     "output_type": "stream",
     "text": [
      "Results saved to results_c.csv\n"
     ]
    }
   ],
   "execution_count": 18
  },
  {
   "metadata": {},
   "cell_type": "markdown",
   "source": "## UniXcoder",
   "id": "7c9d6bddaf23ee26"
  },
  {
   "metadata": {},
   "cell_type": "markdown",
   "source": "### Label Propogation",
   "id": "f281606d9263ef00"
  },
  {
   "metadata": {
    "ExecuteTime": {
     "end_time": "2025-08-19T23:18:37.601378Z",
     "start_time": "2025-08-19T23:14:39.524132Z"
    }
   },
   "cell_type": "code",
   "source": [
    "uniXcoder_pp = run_active_learning(\"embeddings/cpp_UniXcoder_embeddings.pkl\", func=\"label_propagation\")\n",
    "print_results(\"UniXcoder\", uniXcoder_pp)"
   ],
   "id": "99c9479cd6557142",
   "outputs": [
    {
     "name": "stdout",
     "output_type": "stream",
     "text": [
      "=== UniXcoder Accuracy Results ===\n",
      "\n",
      "\n",
      "Active Learning (Random Sampling):\n",
      "  50 labels → Acc: 0.237 | ARI: 0.010 | NMI: 0.225 | F1: 0.275 | Recall: 0.249\n",
      "  100 labels → Acc: 0.402 | ARI: 0.054 | NMI: 0.396 | F1: 0.476 | Recall: 0.411\n",
      "  250 labels → Acc: 0.616 | ARI: 0.218 | NMI: 0.584 | F1: 0.683 | Recall: 0.619\n",
      "  500 labels → Acc: 0.817 | ARI: 0.581 | NMI: 0.761 | F1: 0.843 | Recall: 0.819\n",
      "\n",
      "Active Learning (Entropy-based):\n",
      "  50 labels → Acc: 0.237 | ARI: 0.010 | NMI: 0.225 | F1: 0.275 | Recall: 0.249\n",
      "  100 labels → Acc: 0.444 | ARI: 0.146 | NMI: 0.478 | F1: 0.444 | Recall: 0.415\n",
      "  250 labels → Acc: 0.677 | ARI: 0.459 | NMI: 0.729 | F1: 0.660 | Recall: 0.656\n",
      "  500 labels → Acc: 0.936 | ARI: 0.884 | NMI: 0.926 | F1: 0.932 | Recall: 0.932\n",
      "\n",
      "Active Learning (Class-balance Sampling):\n",
      "  50 labels → Acc: 0.237 | ARI: 0.010 | NMI: 0.225 | F1: 0.275 | Recall: 0.249\n",
      "  100 labels → Acc: 0.458 | ARI: 0.079 | NMI: 0.452 | F1: 0.544 | Recall: 0.471\n",
      "  250 labels → Acc: 0.782 | ARI: 0.493 | NMI: 0.742 | F1: 0.825 | Recall: 0.795\n",
      "  500 labels → Acc: 0.969 | ARI: 0.931 | NMI: 0.953 | F1: 0.971 | Recall: 0.972\n",
      "\n",
      "Active Learning (Random → Entropy (start <100)):\n",
      "  50 labels → Acc: 0.237 | ARI: 0.010 | NMI: 0.225 | F1: 0.275 | Recall: 0.249\n",
      "  100 labels → Acc: 0.402 | ARI: 0.054 | NMI: 0.396 | F1: 0.476 | Recall: 0.411\n",
      "  250 labels → Acc: 0.744 | ARI: 0.420 | NMI: 0.704 | F1: 0.793 | Recall: 0.755\n",
      "  500 labels → Acc: 0.967 | ARI: 0.927 | NMI: 0.950 | F1: 0.969 | Recall: 0.970\n",
      "\n",
      "Active Learning (Random → Entropy (start <250)):\n",
      "  50 labels → Acc: 0.237 | ARI: 0.010 | NMI: 0.225 | F1: 0.275 | Recall: 0.249\n",
      "  100 labels → Acc: 0.402 | ARI: 0.054 | NMI: 0.396 | F1: 0.476 | Recall: 0.411\n",
      "  250 labels → Acc: 0.616 | ARI: 0.218 | NMI: 0.584 | F1: 0.683 | Recall: 0.619\n",
      "  500 labels → Acc: 0.962 | ARI: 0.915 | NMI: 0.943 | F1: 0.965 | Recall: 0.966\n"
     ]
    }
   ],
   "execution_count": 19
  },
  {
   "metadata": {
    "ExecuteTime": {
     "end_time": "2025-08-19T23:18:38.056367Z",
     "start_time": "2025-08-19T23:18:37.682994Z"
    }
   },
   "cell_type": "code",
   "source": "plot_accuracy(\"UniXcoder\", uniXcoder_pp, func=\"label_propagation\")",
   "id": "2309388dbf804f72",
   "outputs": [
    {
     "name": "stdout",
     "output_type": "stream",
     "text": [
      "Results saved to results_c.csv\n"
     ]
    }
   ],
   "execution_count": 20
  },
  {
   "metadata": {},
   "cell_type": "markdown",
   "source": "### Label Spreading",
   "id": "db1656074abb35a6"
  },
  {
   "metadata": {
    "ExecuteTime": {
     "end_time": "2025-08-19T23:24:11.297951Z",
     "start_time": "2025-08-19T23:18:38.072680Z"
    }
   },
   "cell_type": "code",
   "source": [
    "uniXcoder_sp = run_active_learning(\"embeddings/cpp_UniXcoder_embeddings.pkl\", func=\"label_spreading\")\n",
    "print_results(\"UniXcoder\", uniXcoder_sp)"
   ],
   "id": "ac645d34898d2c19",
   "outputs": [
    {
     "name": "stdout",
     "output_type": "stream",
     "text": [
      "=== UniXcoder Accuracy Results ===\n",
      "\n",
      "\n",
      "Active Learning (Random Sampling):\n",
      "  50 labels → Acc: 0.237 | ARI: 0.010 | NMI: 0.225 | F1: 0.275 | Recall: 0.249\n",
      "  100 labels → Acc: 0.402 | ARI: 0.054 | NMI: 0.396 | F1: 0.477 | Recall: 0.411\n",
      "  250 labels → Acc: 0.616 | ARI: 0.218 | NMI: 0.584 | F1: 0.683 | Recall: 0.619\n",
      "  500 labels → Acc: 0.817 | ARI: 0.581 | NMI: 0.761 | F1: 0.843 | Recall: 0.819\n",
      "\n",
      "Active Learning (Entropy-based):\n",
      "  50 labels → Acc: 0.237 | ARI: 0.010 | NMI: 0.225 | F1: 0.275 | Recall: 0.249\n",
      "  100 labels → Acc: 0.444 | ARI: 0.146 | NMI: 0.478 | F1: 0.444 | Recall: 0.415\n",
      "  250 labels → Acc: 0.677 | ARI: 0.459 | NMI: 0.729 | F1: 0.660 | Recall: 0.656\n",
      "  500 labels → Acc: 0.936 | ARI: 0.884 | NMI: 0.926 | F1: 0.932 | Recall: 0.932\n",
      "\n",
      "Active Learning (Class-balance Sampling):\n",
      "  50 labels → Acc: 0.237 | ARI: 0.010 | NMI: 0.225 | F1: 0.275 | Recall: 0.249\n",
      "  100 labels → Acc: 0.458 | ARI: 0.079 | NMI: 0.452 | F1: 0.544 | Recall: 0.471\n",
      "  250 labels → Acc: 0.782 | ARI: 0.493 | NMI: 0.742 | F1: 0.825 | Recall: 0.795\n",
      "  500 labels → Acc: 0.969 | ARI: 0.931 | NMI: 0.953 | F1: 0.971 | Recall: 0.972\n",
      "\n",
      "Active Learning (Random → Entropy (start <100)):\n",
      "  50 labels → Acc: 0.237 | ARI: 0.010 | NMI: 0.225 | F1: 0.275 | Recall: 0.249\n",
      "  100 labels → Acc: 0.402 | ARI: 0.054 | NMI: 0.396 | F1: 0.477 | Recall: 0.411\n",
      "  250 labels → Acc: 0.744 | ARI: 0.420 | NMI: 0.704 | F1: 0.793 | Recall: 0.755\n",
      "  500 labels → Acc: 0.967 | ARI: 0.927 | NMI: 0.950 | F1: 0.969 | Recall: 0.970\n",
      "\n",
      "Active Learning (Random → Entropy (start <250)):\n",
      "  50 labels → Acc: 0.237 | ARI: 0.010 | NMI: 0.225 | F1: 0.275 | Recall: 0.249\n",
      "  100 labels → Acc: 0.402 | ARI: 0.054 | NMI: 0.396 | F1: 0.477 | Recall: 0.411\n",
      "  250 labels → Acc: 0.616 | ARI: 0.218 | NMI: 0.584 | F1: 0.683 | Recall: 0.619\n",
      "  500 labels → Acc: 0.962 | ARI: 0.915 | NMI: 0.943 | F1: 0.965 | Recall: 0.966\n"
     ]
    }
   ],
   "execution_count": 21
  },
  {
   "metadata": {
    "ExecuteTime": {
     "end_time": "2025-08-19T23:24:11.689838Z",
     "start_time": "2025-08-19T23:24:11.322465Z"
    }
   },
   "cell_type": "code",
   "source": "plot_accuracy(\"UniXcoder\", uniXcoder_sp, func=\"label_spreading\")",
   "id": "8dfe3d4260f7c545",
   "outputs": [
    {
     "name": "stdout",
     "output_type": "stream",
     "text": [
      "Results saved to results_c.csv\n"
     ]
    }
   ],
   "execution_count": 22
  },
  {
   "metadata": {},
   "cell_type": "markdown",
   "source": "## CodeT5",
   "id": "10d73e4af8357d89"
  },
  {
   "metadata": {},
   "cell_type": "markdown",
   "source": "### Label Propagation",
   "id": "aff40dae29793ccb"
  },
  {
   "metadata": {
    "ExecuteTime": {
     "end_time": "2025-08-20T01:58:22.687178Z",
     "start_time": "2025-08-19T23:24:11.707007Z"
    }
   },
   "cell_type": "code",
   "source": [
    "codeT5_pp = run_active_learning(\"embeddings/cpp_CodeT5_embeddings.pkl\", func=\"label_propagation\")\n",
    "print_results(\"CodeT5\", codeT5_pp)"
   ],
   "id": "4f10c0be77e2c9e2",
   "outputs": [
    {
     "name": "stdout",
     "output_type": "stream",
     "text": [
      "=== CodeT5 Accuracy Results ===\n",
      "\n",
      "\n",
      "Active Learning (Random Sampling):\n",
      "  50 labels → Acc: 0.473 | ARI: 0.214 | NMI: 0.348 | F1: 0.470 | Recall: 0.482\n",
      "  100 labels → Acc: 0.606 | ARI: 0.344 | NMI: 0.464 | F1: 0.602 | Recall: 0.614\n",
      "  250 labels → Acc: 0.782 | ARI: 0.586 | NMI: 0.654 | F1: 0.780 | Recall: 0.784\n",
      "  500 labels → Acc: 0.906 | ARI: 0.804 | NMI: 0.827 | F1: 0.906 | Recall: 0.906\n",
      "\n",
      "Active Learning (Entropy-based):\n",
      "  50 labels → Acc: 0.473 | ARI: 0.214 | NMI: 0.348 | F1: 0.470 | Recall: 0.482\n",
      "  100 labels → Acc: 0.494 | ARI: 0.235 | NMI: 0.364 | F1: 0.490 | Recall: 0.504\n",
      "  250 labels → Acc: 0.520 | ARI: 0.256 | NMI: 0.389 | F1: 0.518 | Recall: 0.533\n",
      "  500 labels → Acc: 0.567 | ARI: 0.303 | NMI: 0.430 | F1: 0.566 | Recall: 0.577\n",
      "\n",
      "Active Learning (Class-balance Sampling):\n",
      "  50 labels → Acc: 0.473 | ARI: 0.214 | NMI: 0.348 | F1: 0.470 | Recall: 0.482\n",
      "  100 labels → Acc: 0.575 | ARI: 0.312 | NMI: 0.441 | F1: 0.577 | Recall: 0.589\n",
      "  250 labels → Acc: 0.632 | ARI: 0.375 | NMI: 0.503 | F1: 0.633 | Recall: 0.647\n",
      "  500 labels → Acc: 0.715 | ARI: 0.482 | NMI: 0.597 | F1: 0.717 | Recall: 0.731\n",
      "\n",
      "Active Learning (Random → Entropy (start <100)):\n",
      "  50 labels → Acc: 0.473 | ARI: 0.214 | NMI: 0.348 | F1: 0.470 | Recall: 0.482\n",
      "  100 labels → Acc: 0.606 | ARI: 0.344 | NMI: 0.464 | F1: 0.602 | Recall: 0.614\n",
      "  250 labels → Acc: 0.687 | ARI: 0.439 | NMI: 0.555 | F1: 0.689 | Recall: 0.696\n",
      "  500 labels → Acc: 0.770 | ARI: 0.562 | NMI: 0.654 | F1: 0.771 | Recall: 0.782\n",
      "\n",
      "Active Learning (Random → Entropy (start <250)):\n",
      "  50 labels → Acc: 0.473 | ARI: 0.214 | NMI: 0.348 | F1: 0.470 | Recall: 0.482\n",
      "  100 labels → Acc: 0.606 | ARI: 0.344 | NMI: 0.464 | F1: 0.602 | Recall: 0.614\n",
      "  250 labels → Acc: 0.782 | ARI: 0.586 | NMI: 0.654 | F1: 0.780 | Recall: 0.784\n",
      "  500 labels → Acc: 0.847 | ARI: 0.694 | NMI: 0.746 | F1: 0.846 | Recall: 0.853\n"
     ]
    }
   ],
   "execution_count": 23
  },
  {
   "metadata": {
    "ExecuteTime": {
     "end_time": "2025-08-20T01:58:23.157596Z",
     "start_time": "2025-08-20T01:58:22.794144Z"
    }
   },
   "cell_type": "code",
   "source": "plot_accuracy(\"CodeT5\", codeT5_pp, func=\"label_propagation\")",
   "id": "282a848311856b2b",
   "outputs": [
    {
     "name": "stdout",
     "output_type": "stream",
     "text": [
      "Results saved to results_c.csv\n"
     ]
    }
   ],
   "execution_count": 24
  },
  {
   "metadata": {},
   "cell_type": "markdown",
   "source": "### Label Spreading",
   "id": "6484b502282f50e0"
  },
  {
   "metadata": {
    "ExecuteTime": {
     "end_time": "2025-08-20T02:04:09.585769Z",
     "start_time": "2025-08-20T01:58:23.236440Z"
    }
   },
   "cell_type": "code",
   "source": [
    "codeT5_sp = run_active_learning(\"embeddings/cpp_CodeT5_embeddings.pkl\", func=\"label_spreading\")\n",
    "print_results(\"CodeT5\", codeT5_sp)"
   ],
   "id": "c410c66770744d9",
   "outputs": [
    {
     "name": "stdout",
     "output_type": "stream",
     "text": [
      "=== CodeT5 Accuracy Results ===\n",
      "\n",
      "\n",
      "Active Learning (Random Sampling):\n",
      "  50 labels → Acc: 0.474 | ARI: 0.219 | NMI: 0.353 | F1: 0.471 | Recall: 0.484\n",
      "  100 labels → Acc: 0.599 | ARI: 0.334 | NMI: 0.463 | F1: 0.598 | Recall: 0.608\n",
      "  250 labels → Acc: 0.776 | ARI: 0.575 | NMI: 0.650 | F1: 0.776 | Recall: 0.778\n",
      "  500 labels → Acc: 0.899 | ARI: 0.787 | NMI: 0.819 | F1: 0.900 | Recall: 0.900\n",
      "\n",
      "Active Learning (Entropy-based):\n",
      "  50 labels → Acc: 0.474 | ARI: 0.219 | NMI: 0.353 | F1: 0.471 | Recall: 0.484\n",
      "  100 labels → Acc: 0.473 | ARI: 0.197 | NMI: 0.360 | F1: 0.479 | Recall: 0.478\n",
      "  250 labels → Acc: 0.501 | ARI: 0.210 | NMI: 0.387 | F1: 0.521 | Recall: 0.510\n",
      "  500 labels → Acc: 0.538 | ARI: 0.241 | NMI: 0.420 | F1: 0.559 | Recall: 0.547\n",
      "\n",
      "Active Learning (Class-balance Sampling):\n",
      "  50 labels → Acc: 0.474 | ARI: 0.219 | NMI: 0.353 | F1: 0.471 | Recall: 0.484\n",
      "  100 labels → Acc: 0.530 | ARI: 0.249 | NMI: 0.414 | F1: 0.548 | Recall: 0.539\n",
      "  250 labels → Acc: 0.587 | ARI: 0.311 | NMI: 0.467 | F1: 0.601 | Recall: 0.598\n",
      "  500 labels → Acc: 0.689 | ARI: 0.435 | NMI: 0.570 | F1: 0.701 | Recall: 0.700\n",
      "\n",
      "Active Learning (Random → Entropy (start <100)):\n",
      "  50 labels → Acc: 0.474 | ARI: 0.219 | NMI: 0.353 | F1: 0.471 | Recall: 0.484\n",
      "  100 labels → Acc: 0.599 | ARI: 0.334 | NMI: 0.463 | F1: 0.598 | Recall: 0.608\n",
      "  250 labels → Acc: 0.661 | ARI: 0.389 | NMI: 0.528 | F1: 0.674 | Recall: 0.667\n",
      "  500 labels → Acc: 0.751 | ARI: 0.518 | NMI: 0.635 | F1: 0.762 | Recall: 0.759\n",
      "\n",
      "Active Learning (Random → Entropy (start <250)):\n",
      "  50 labels → Acc: 0.474 | ARI: 0.219 | NMI: 0.353 | F1: 0.471 | Recall: 0.484\n",
      "  100 labels → Acc: 0.599 | ARI: 0.334 | NMI: 0.463 | F1: 0.598 | Recall: 0.608\n",
      "  250 labels → Acc: 0.776 | ARI: 0.575 | NMI: 0.650 | F1: 0.776 | Recall: 0.778\n",
      "  500 labels → Acc: 0.836 | ARI: 0.668 | NMI: 0.735 | F1: 0.841 | Recall: 0.842\n"
     ]
    }
   ],
   "execution_count": 25
  },
  {
   "metadata": {
    "ExecuteTime": {
     "end_time": "2025-08-20T02:04:09.936414Z",
     "start_time": "2025-08-20T02:04:09.608111Z"
    }
   },
   "cell_type": "code",
   "source": "plot_accuracy(\"CodeT5\", codeT5_sp, func=\"label_spreading\")",
   "id": "d1bfccc1cee6d29a",
   "outputs": [
    {
     "name": "stdout",
     "output_type": "stream",
     "text": [
      "Results saved to results_c.csv\n"
     ]
    }
   ],
   "execution_count": 26
  },
  {
   "metadata": {},
   "cell_type": "markdown",
   "source": "## InCoder",
   "id": "916db3f9a28c3b7"
  },
  {
   "metadata": {},
   "cell_type": "markdown",
   "source": "### Label Propagation",
   "id": "2af9a5b48b1b9a49"
  },
  {
   "metadata": {
    "ExecuteTime": {
     "end_time": "2025-08-20T02:33:09.830229Z",
     "start_time": "2025-08-20T02:04:09.952868Z"
    }
   },
   "cell_type": "code",
   "source": [
    "InCoder_pp = run_active_learning(\"embeddings/cpp_InCoder_embeddings.pkl\", func=\"label_propagation\")\n",
    "print_results(\"InCoder\", InCoder_pp)"
   ],
   "id": "1dca9c0e1dbf8e92",
   "outputs": [
    {
     "name": "stdout",
     "output_type": "stream",
     "text": [
      "=== InCoder Accuracy Results ===\n",
      "\n",
      "\n",
      "Active Learning (Random Sampling):\n",
      "  50 labels → Acc: 0.618 | ARI: 0.377 | NMI: 0.525 | F1: 0.616 | Recall: 0.624\n",
      "  100 labels → Acc: 0.737 | ARI: 0.527 | NMI: 0.627 | F1: 0.734 | Recall: 0.738\n",
      "  250 labels → Acc: 0.870 | ARI: 0.748 | NMI: 0.783 | F1: 0.866 | Recall: 0.867\n",
      "  500 labels → Acc: 0.940 | ARI: 0.877 | NMI: 0.887 | F1: 0.938 | Recall: 0.939\n",
      "\n",
      "Active Learning (Entropy-based):\n",
      "  50 labels → Acc: 0.618 | ARI: 0.377 | NMI: 0.525 | F1: 0.616 | Recall: 0.624\n",
      "  100 labels → Acc: 0.680 | ARI: 0.461 | NMI: 0.579 | F1: 0.675 | Recall: 0.678\n",
      "  250 labels → Acc: 0.707 | ARI: 0.489 | NMI: 0.596 | F1: 0.701 | Recall: 0.704\n",
      "  500 labels → Acc: 0.760 | ARI: 0.562 | NMI: 0.654 | F1: 0.757 | Recall: 0.756\n",
      "\n",
      "Active Learning (Class-balance Sampling):\n",
      "  50 labels → Acc: 0.618 | ARI: 0.377 | NMI: 0.525 | F1: 0.616 | Recall: 0.624\n",
      "  100 labels → Acc: 0.732 | ARI: 0.518 | NMI: 0.629 | F1: 0.730 | Recall: 0.735\n",
      "  250 labels → Acc: 0.790 | ARI: 0.606 | NMI: 0.696 | F1: 0.788 | Recall: 0.790\n",
      "  500 labels → Acc: 0.860 | ARI: 0.725 | NMI: 0.788 | F1: 0.859 | Recall: 0.861\n",
      "\n",
      "Active Learning (Random → Entropy (start <100)):\n",
      "  50 labels → Acc: 0.618 | ARI: 0.377 | NMI: 0.525 | F1: 0.616 | Recall: 0.624\n",
      "  100 labels → Acc: 0.737 | ARI: 0.527 | NMI: 0.627 | F1: 0.734 | Recall: 0.738\n",
      "  250 labels → Acc: 0.805 | ARI: 0.635 | NMI: 0.708 | F1: 0.802 | Recall: 0.804\n",
      "  500 labels → Acc: 0.883 | ARI: 0.764 | NMI: 0.813 | F1: 0.883 | Recall: 0.884\n",
      "\n",
      "Active Learning (Random → Entropy (start <250)):\n",
      "  50 labels → Acc: 0.618 | ARI: 0.377 | NMI: 0.525 | F1: 0.616 | Recall: 0.624\n",
      "  100 labels → Acc: 0.737 | ARI: 0.527 | NMI: 0.627 | F1: 0.734 | Recall: 0.738\n",
      "  250 labels → Acc: 0.870 | ARI: 0.748 | NMI: 0.783 | F1: 0.866 | Recall: 0.867\n",
      "  500 labels → Acc: 0.921 | ARI: 0.839 | NMI: 0.866 | F1: 0.919 | Recall: 0.921\n"
     ]
    }
   ],
   "execution_count": 27
  },
  {
   "metadata": {
    "ExecuteTime": {
     "end_time": "2025-08-20T02:33:10.192882Z",
     "start_time": "2025-08-20T02:33:09.912705Z"
    }
   },
   "cell_type": "code",
   "source": "plot_accuracy(\"InCoder\", InCoder_pp, func=\"label_propagation\")",
   "id": "7bea67c0a7a487e1",
   "outputs": [
    {
     "name": "stdout",
     "output_type": "stream",
     "text": [
      "Results saved to results_c.csv\n"
     ]
    }
   ],
   "execution_count": 28
  },
  {
   "metadata": {},
   "cell_type": "markdown",
   "source": "### Label Spreading",
   "id": "b515920b6846b873"
  },
  {
   "metadata": {
    "ExecuteTime": {
     "end_time": "2025-08-20T02:40:26.851022Z",
     "start_time": "2025-08-20T02:33:10.255095Z"
    }
   },
   "cell_type": "code",
   "source": [
    "InCoder_sp = run_active_learning(\"embeddings/cpp_InCoder_embeddings.pkl\", func=\"label_spreading\")\n",
    "print_results(\"InCoder\", InCoder_sp)"
   ],
   "id": "96fe7ddbf75626ef",
   "outputs": [
    {
     "name": "stdout",
     "output_type": "stream",
     "text": [
      "=== InCoder Accuracy Results ===\n",
      "\n",
      "\n",
      "Active Learning (Random Sampling):\n",
      "  50 labels → Acc: 0.615 | ARI: 0.369 | NMI: 0.518 | F1: 0.616 | Recall: 0.622\n",
      "  100 labels → Acc: 0.715 | ARI: 0.486 | NMI: 0.609 | F1: 0.718 | Recall: 0.720\n",
      "  250 labels → Acc: 0.861 | ARI: 0.727 | NMI: 0.773 | F1: 0.860 | Recall: 0.860\n",
      "  500 labels → Acc: 0.933 | ARI: 0.856 | NMI: 0.880 | F1: 0.934 | Recall: 0.934\n",
      "\n",
      "Active Learning (Entropy-based):\n",
      "  50 labels → Acc: 0.615 | ARI: 0.369 | NMI: 0.518 | F1: 0.616 | Recall: 0.622\n",
      "  100 labels → Acc: 0.675 | ARI: 0.438 | NMI: 0.576 | F1: 0.675 | Recall: 0.675\n",
      "  250 labels → Acc: 0.681 | ARI: 0.418 | NMI: 0.571 | F1: 0.690 | Recall: 0.678\n",
      "  500 labels → Acc: 0.709 | ARI: 0.455 | NMI: 0.601 | F1: 0.719 | Recall: 0.708\n",
      "\n",
      "Active Learning (Class-balance Sampling):\n",
      "  50 labels → Acc: 0.615 | ARI: 0.369 | NMI: 0.518 | F1: 0.616 | Recall: 0.622\n",
      "  100 labels → Acc: 0.687 | ARI: 0.442 | NMI: 0.590 | F1: 0.691 | Recall: 0.692\n",
      "  250 labels → Acc: 0.716 | ARI: 0.474 | NMI: 0.617 | F1: 0.726 | Recall: 0.722\n",
      "  500 labels → Acc: 0.799 | ARI: 0.601 | NMI: 0.715 | F1: 0.806 | Recall: 0.804\n",
      "\n",
      "Active Learning (Random → Entropy (start <100)):\n",
      "  50 labels → Acc: 0.615 | ARI: 0.369 | NMI: 0.518 | F1: 0.616 | Recall: 0.622\n",
      "  100 labels → Acc: 0.715 | ARI: 0.486 | NMI: 0.609 | F1: 0.718 | Recall: 0.720\n",
      "  250 labels → Acc: 0.761 | ARI: 0.550 | NMI: 0.671 | F1: 0.767 | Recall: 0.770\n",
      "  500 labels → Acc: 0.843 | ARI: 0.684 | NMI: 0.769 | F1: 0.847 | Recall: 0.850\n",
      "\n",
      "Active Learning (Random → Entropy (start <250)):\n",
      "  50 labels → Acc: 0.615 | ARI: 0.369 | NMI: 0.518 | F1: 0.616 | Recall: 0.622\n",
      "  100 labels → Acc: 0.715 | ARI: 0.486 | NMI: 0.609 | F1: 0.718 | Recall: 0.720\n",
      "  250 labels → Acc: 0.861 | ARI: 0.727 | NMI: 0.773 | F1: 0.860 | Recall: 0.860\n",
      "  500 labels → Acc: 0.898 | ARI: 0.782 | NMI: 0.834 | F1: 0.900 | Recall: 0.900\n"
     ]
    }
   ],
   "execution_count": 29
  },
  {
   "metadata": {
    "ExecuteTime": {
     "end_time": "2025-08-20T02:40:27.187684Z",
     "start_time": "2025-08-20T02:40:26.868241Z"
    }
   },
   "cell_type": "code",
   "source": "plot_accuracy(\"InCoder\", InCoder_sp, func=\"label_spreading\")",
   "id": "57052e39d72e4f21",
   "outputs": [
    {
     "name": "stdout",
     "output_type": "stream",
     "text": [
      "Results saved to results_c.csv\n"
     ]
    }
   ],
   "execution_count": 30
  }
 ],
 "metadata": {
  "kernelspec": {
   "display_name": "Python 3",
   "language": "python",
   "name": "python3"
  },
  "language_info": {
   "codemirror_mode": {
    "name": "ipython",
    "version": 2
   },
   "file_extension": ".py",
   "mimetype": "text/x-python",
   "name": "python",
   "nbconvert_exporter": "python",
   "pygments_lexer": "ipython2",
   "version": "2.7.6"
  }
 },
 "nbformat": 4,
 "nbformat_minor": 5
}
